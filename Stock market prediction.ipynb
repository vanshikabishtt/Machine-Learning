{
 "cells": [
  {
   "cell_type": "code",
   "execution_count": 1,
   "id": "86313ccf-6b80-490e-b432-01c8d12db1d5",
   "metadata": {},
   "outputs": [],
   "source": [
    "import pandas as pd\n",
    "import numpy as np\n",
    "import seaborn as sns\n",
    "import matplotlib.pyplot as plt"
   ]
  },
  {
   "cell_type": "code",
   "execution_count": 27,
   "id": "c4a1e8d9-4f87-4a46-87c7-1c53c47c9b7b",
   "metadata": {},
   "outputs": [],
   "source": [
    "df=pd.read_csv(r\"C:\\Users\\sb193\\Downloads\\stock_market_data_large.csv\")"
   ]
  },
  {
   "cell_type": "code",
   "execution_count": 29,
   "id": "637d3375-0381-48e8-8e30-5a74fecc4afe",
   "metadata": {},
   "outputs": [
    {
     "data": {
      "text/html": [
       "<div>\n",
       "<style scoped>\n",
       "    .dataframe tbody tr th:only-of-type {\n",
       "        vertical-align: middle;\n",
       "    }\n",
       "\n",
       "    .dataframe tbody tr th {\n",
       "        vertical-align: top;\n",
       "    }\n",
       "\n",
       "    .dataframe thead th {\n",
       "        text-align: right;\n",
       "    }\n",
       "</style>\n",
       "<table border=\"1\" class=\"dataframe\">\n",
       "  <thead>\n",
       "    <tr style=\"text-align: right;\">\n",
       "      <th></th>\n",
       "      <th>Date</th>\n",
       "      <th>Open</th>\n",
       "      <th>High</th>\n",
       "      <th>Low</th>\n",
       "      <th>Close</th>\n",
       "      <th>Volume</th>\n",
       "      <th>RSI</th>\n",
       "      <th>MACD</th>\n",
       "      <th>Sentiment</th>\n",
       "      <th>Target</th>\n",
       "    </tr>\n",
       "  </thead>\n",
       "  <tbody>\n",
       "    <tr>\n",
       "      <th>0</th>\n",
       "      <td>2010-01-01</td>\n",
       "      <td>100.309172</td>\n",
       "      <td>102.741242</td>\n",
       "      <td>99.822837</td>\n",
       "      <td>101.381330</td>\n",
       "      <td>743835</td>\n",
       "      <td>75.905800</td>\n",
       "      <td>0.000000</td>\n",
       "      <td>0.058089</td>\n",
       "      <td>0</td>\n",
       "    </tr>\n",
       "    <tr>\n",
       "      <th>1</th>\n",
       "      <td>2010-01-04</td>\n",
       "      <td>101.147509</td>\n",
       "      <td>101.681257</td>\n",
       "      <td>99.244474</td>\n",
       "      <td>100.396541</td>\n",
       "      <td>2693069</td>\n",
       "      <td>81.444127</td>\n",
       "      <td>-0.078559</td>\n",
       "      <td>0.751219</td>\n",
       "      <td>1</td>\n",
       "    </tr>\n",
       "    <tr>\n",
       "      <th>2</th>\n",
       "      <td>2010-01-05</td>\n",
       "      <td>101.567491</td>\n",
       "      <td>103.949668</td>\n",
       "      <td>101.509347</td>\n",
       "      <td>103.012156</td>\n",
       "      <td>3027306</td>\n",
       "      <td>71.544018</td>\n",
       "      <td>0.069441</td>\n",
       "      <td>0.979723</td>\n",
       "      <td>1</td>\n",
       "    </tr>\n",
       "    <tr>\n",
       "      <th>3</th>\n",
       "      <td>2010-01-06</td>\n",
       "      <td>104.247814</td>\n",
       "      <td>106.652559</td>\n",
       "      <td>102.760082</td>\n",
       "      <td>105.846343</td>\n",
       "      <td>4341338</td>\n",
       "      <td>73.683548</td>\n",
       "      <td>0.410693</td>\n",
       "      <td>-0.858008</td>\n",
       "      <td>0</td>\n",
       "    </tr>\n",
       "    <tr>\n",
       "      <th>4</th>\n",
       "      <td>2010-01-07</td>\n",
       "      <td>105.339440</td>\n",
       "      <td>105.983592</td>\n",
       "      <td>103.517541</td>\n",
       "      <td>104.721465</td>\n",
       "      <td>2106182</td>\n",
       "      <td>72.675179</td>\n",
       "      <td>0.583641</td>\n",
       "      <td>0.264456</td>\n",
       "      <td>0</td>\n",
       "    </tr>\n",
       "  </tbody>\n",
       "</table>\n",
       "</div>"
      ],
      "text/plain": [
       "         Date        Open        High         Low       Close   Volume  \\\n",
       "0  2010-01-01  100.309172  102.741242   99.822837  101.381330   743835   \n",
       "1  2010-01-04  101.147509  101.681257   99.244474  100.396541  2693069   \n",
       "2  2010-01-05  101.567491  103.949668  101.509347  103.012156  3027306   \n",
       "3  2010-01-06  104.247814  106.652559  102.760082  105.846343  4341338   \n",
       "4  2010-01-07  105.339440  105.983592  103.517541  104.721465  2106182   \n",
       "\n",
       "         RSI      MACD  Sentiment  Target  \n",
       "0  75.905800  0.000000   0.058089       0  \n",
       "1  81.444127 -0.078559   0.751219       1  \n",
       "2  71.544018  0.069441   0.979723       1  \n",
       "3  73.683548  0.410693  -0.858008       0  \n",
       "4  72.675179  0.583641   0.264456       0  "
      ]
     },
     "execution_count": 29,
     "metadata": {},
     "output_type": "execute_result"
    }
   ],
   "source": [
    "df.head()"
   ]
  },
  {
   "cell_type": "code",
   "execution_count": 31,
   "id": "cb3d4297-f16e-4a36-a224-0ce5b786bbcd",
   "metadata": {},
   "outputs": [
    {
     "data": {
      "text/html": [
       "<div>\n",
       "<style scoped>\n",
       "    .dataframe tbody tr th:only-of-type {\n",
       "        vertical-align: middle;\n",
       "    }\n",
       "\n",
       "    .dataframe tbody tr th {\n",
       "        vertical-align: top;\n",
       "    }\n",
       "\n",
       "    .dataframe thead th {\n",
       "        text-align: right;\n",
       "    }\n",
       "</style>\n",
       "<table border=\"1\" class=\"dataframe\">\n",
       "  <thead>\n",
       "    <tr style=\"text-align: right;\">\n",
       "      <th></th>\n",
       "      <th>Date</th>\n",
       "      <th>Open</th>\n",
       "      <th>High</th>\n",
       "      <th>Low</th>\n",
       "      <th>Close</th>\n",
       "      <th>Volume</th>\n",
       "      <th>RSI</th>\n",
       "      <th>MACD</th>\n",
       "      <th>Sentiment</th>\n",
       "      <th>Target</th>\n",
       "    </tr>\n",
       "  </thead>\n",
       "  <tbody>\n",
       "    <tr>\n",
       "      <th>13642</th>\n",
       "      <td>2062-04-18</td>\n",
       "      <td>43.275041</td>\n",
       "      <td>44.410580</td>\n",
       "      <td>41.142970</td>\n",
       "      <td>41.605722</td>\n",
       "      <td>2764137</td>\n",
       "      <td>31.764587</td>\n",
       "      <td>-1.807202</td>\n",
       "      <td>0.038068</td>\n",
       "      <td>0</td>\n",
       "    </tr>\n",
       "    <tr>\n",
       "      <th>13643</th>\n",
       "      <td>2062-04-19</td>\n",
       "      <td>39.024132</td>\n",
       "      <td>41.984653</td>\n",
       "      <td>38.621644</td>\n",
       "      <td>39.210815</td>\n",
       "      <td>1784838</td>\n",
       "      <td>30.837099</td>\n",
       "      <td>-2.290434</td>\n",
       "      <td>0.115523</td>\n",
       "      <td>1</td>\n",
       "    </tr>\n",
       "    <tr>\n",
       "      <th>13644</th>\n",
       "      <td>2062-04-20</td>\n",
       "      <td>42.843140</td>\n",
       "      <td>43.711000</td>\n",
       "      <td>39.998519</td>\n",
       "      <td>42.635796</td>\n",
       "      <td>2142188</td>\n",
       "      <td>29.479917</td>\n",
       "      <td>-2.369715</td>\n",
       "      <td>0.636065</td>\n",
       "      <td>0</td>\n",
       "    </tr>\n",
       "    <tr>\n",
       "      <th>13645</th>\n",
       "      <td>2062-04-21</td>\n",
       "      <td>41.636775</td>\n",
       "      <td>42.925515</td>\n",
       "      <td>40.098662</td>\n",
       "      <td>41.206622</td>\n",
       "      <td>1160555</td>\n",
       "      <td>34.398739</td>\n",
       "      <td>-2.518833</td>\n",
       "      <td>-0.143514</td>\n",
       "      <td>0</td>\n",
       "    </tr>\n",
       "    <tr>\n",
       "      <th>13646</th>\n",
       "      <td>2062-04-24</td>\n",
       "      <td>40.904850</td>\n",
       "      <td>43.993635</td>\n",
       "      <td>39.333408</td>\n",
       "      <td>40.781086</td>\n",
       "      <td>2481904</td>\n",
       "      <td>19.850684</td>\n",
       "      <td>-2.640904</td>\n",
       "      <td>-0.568854</td>\n",
       "      <td>0</td>\n",
       "    </tr>\n",
       "  </tbody>\n",
       "</table>\n",
       "</div>"
      ],
      "text/plain": [
       "             Date       Open       High        Low      Close   Volume  \\\n",
       "13642  2062-04-18  43.275041  44.410580  41.142970  41.605722  2764137   \n",
       "13643  2062-04-19  39.024132  41.984653  38.621644  39.210815  1784838   \n",
       "13644  2062-04-20  42.843140  43.711000  39.998519  42.635796  2142188   \n",
       "13645  2062-04-21  41.636775  42.925515  40.098662  41.206622  1160555   \n",
       "13646  2062-04-24  40.904850  43.993635  39.333408  40.781086  2481904   \n",
       "\n",
       "             RSI      MACD  Sentiment  Target  \n",
       "13642  31.764587 -1.807202   0.038068       0  \n",
       "13643  30.837099 -2.290434   0.115523       1  \n",
       "13644  29.479917 -2.369715   0.636065       0  \n",
       "13645  34.398739 -2.518833  -0.143514       0  \n",
       "13646  19.850684 -2.640904  -0.568854       0  "
      ]
     },
     "execution_count": 31,
     "metadata": {},
     "output_type": "execute_result"
    }
   ],
   "source": [
    "df.tail()"
   ]
  },
  {
   "cell_type": "code",
   "execution_count": 33,
   "id": "a26ebabe-5e3e-4320-a6f4-fade83baf909",
   "metadata": {},
   "outputs": [
    {
     "data": {
      "text/plain": [
       "Date         0\n",
       "Open         0\n",
       "High         0\n",
       "Low          0\n",
       "Close        0\n",
       "Volume       0\n",
       "RSI          0\n",
       "MACD         0\n",
       "Sentiment    0\n",
       "Target       0\n",
       "dtype: int64"
      ]
     },
     "execution_count": 33,
     "metadata": {},
     "output_type": "execute_result"
    }
   ],
   "source": [
    "df.isnull().sum()"
   ]
  },
  {
   "cell_type": "code",
   "execution_count": 35,
   "id": "0d707f18-848b-47ac-8e05-1642d79290c1",
   "metadata": {},
   "outputs": [
    {
     "data": {
      "text/html": [
       "<div>\n",
       "<style scoped>\n",
       "    .dataframe tbody tr th:only-of-type {\n",
       "        vertical-align: middle;\n",
       "    }\n",
       "\n",
       "    .dataframe tbody tr th {\n",
       "        vertical-align: top;\n",
       "    }\n",
       "\n",
       "    .dataframe thead th {\n",
       "        text-align: right;\n",
       "    }\n",
       "</style>\n",
       "<table border=\"1\" class=\"dataframe\">\n",
       "  <thead>\n",
       "    <tr style=\"text-align: right;\">\n",
       "      <th></th>\n",
       "      <th>count</th>\n",
       "      <th>mean</th>\n",
       "      <th>std</th>\n",
       "      <th>min</th>\n",
       "      <th>25%</th>\n",
       "      <th>50%</th>\n",
       "      <th>75%</th>\n",
       "      <th>max</th>\n",
       "    </tr>\n",
       "  </thead>\n",
       "  <tbody>\n",
       "    <tr>\n",
       "      <th>Open</th>\n",
       "      <td>13647.0</td>\n",
       "      <td>1.010968e+02</td>\n",
       "      <td>1.011526e+02</td>\n",
       "      <td>-57.993581</td>\n",
       "      <td>1.676376e+01</td>\n",
       "      <td>7.523206e+01</td>\n",
       "      <td>1.712820e+02</td>\n",
       "      <td>3.229960e+02</td>\n",
       "    </tr>\n",
       "    <tr>\n",
       "      <th>High</th>\n",
       "      <td>13647.0</td>\n",
       "      <td>1.026001e+02</td>\n",
       "      <td>1.011773e+02</td>\n",
       "      <td>-56.565948</td>\n",
       "      <td>1.810118e+01</td>\n",
       "      <td>7.676512e+01</td>\n",
       "      <td>1.729486e+02</td>\n",
       "      <td>3.237693e+02</td>\n",
       "    </tr>\n",
       "    <tr>\n",
       "      <th>Low</th>\n",
       "      <td>13647.0</td>\n",
       "      <td>9.959930e+01</td>\n",
       "      <td>1.011624e+02</td>\n",
       "      <td>-60.262371</td>\n",
       "      <td>1.512142e+01</td>\n",
       "      <td>7.383389e+01</td>\n",
       "      <td>1.696651e+02</td>\n",
       "      <td>3.209499e+02</td>\n",
       "    </tr>\n",
       "    <tr>\n",
       "      <th>Close</th>\n",
       "      <td>13647.0</td>\n",
       "      <td>1.010970e+02</td>\n",
       "      <td>1.011592e+02</td>\n",
       "      <td>-58.538240</td>\n",
       "      <td>1.671165e+01</td>\n",
       "      <td>7.527154e+01</td>\n",
       "      <td>1.712788e+02</td>\n",
       "      <td>3.236221e+02</td>\n",
       "    </tr>\n",
       "    <tr>\n",
       "      <th>Volume</th>\n",
       "      <td>13647.0</td>\n",
       "      <td>2.563550e+06</td>\n",
       "      <td>1.404601e+06</td>\n",
       "      <td>100310.000000</td>\n",
       "      <td>1.356426e+06</td>\n",
       "      <td>2.550567e+06</td>\n",
       "      <td>3.779358e+06</td>\n",
       "      <td>4.999938e+06</td>\n",
       "    </tr>\n",
       "    <tr>\n",
       "      <th>RSI</th>\n",
       "      <td>13647.0</td>\n",
       "      <td>4.990627e+01</td>\n",
       "      <td>1.504095e+01</td>\n",
       "      <td>0.000000</td>\n",
       "      <td>3.957659e+01</td>\n",
       "      <td>4.991158e+01</td>\n",
       "      <td>6.022049e+01</td>\n",
       "      <td>9.761496e+01</td>\n",
       "    </tr>\n",
       "    <tr>\n",
       "      <th>MACD</th>\n",
       "      <td>13647.0</td>\n",
       "      <td>-2.698564e-02</td>\n",
       "      <td>2.203216e+00</td>\n",
       "      <td>-7.384103</td>\n",
       "      <td>-1.472511e+00</td>\n",
       "      <td>1.228432e-02</td>\n",
       "      <td>1.416378e+00</td>\n",
       "      <td>7.288539e+00</td>\n",
       "    </tr>\n",
       "    <tr>\n",
       "      <th>Sentiment</th>\n",
       "      <td>13647.0</td>\n",
       "      <td>-1.146381e-03</td>\n",
       "      <td>5.735740e-01</td>\n",
       "      <td>-0.999338</td>\n",
       "      <td>-4.993465e-01</td>\n",
       "      <td>3.137550e-03</td>\n",
       "      <td>4.911611e-01</td>\n",
       "      <td>9.998240e-01</td>\n",
       "    </tr>\n",
       "    <tr>\n",
       "      <th>Target</th>\n",
       "      <td>13647.0</td>\n",
       "      <td>5.009160e-01</td>\n",
       "      <td>5.000175e-01</td>\n",
       "      <td>0.000000</td>\n",
       "      <td>0.000000e+00</td>\n",
       "      <td>1.000000e+00</td>\n",
       "      <td>1.000000e+00</td>\n",
       "      <td>1.000000e+00</td>\n",
       "    </tr>\n",
       "  </tbody>\n",
       "</table>\n",
       "</div>"
      ],
      "text/plain": [
       "             count          mean           std            min           25%  \\\n",
       "Open       13647.0  1.010968e+02  1.011526e+02     -57.993581  1.676376e+01   \n",
       "High       13647.0  1.026001e+02  1.011773e+02     -56.565948  1.810118e+01   \n",
       "Low        13647.0  9.959930e+01  1.011624e+02     -60.262371  1.512142e+01   \n",
       "Close      13647.0  1.010970e+02  1.011592e+02     -58.538240  1.671165e+01   \n",
       "Volume     13647.0  2.563550e+06  1.404601e+06  100310.000000  1.356426e+06   \n",
       "RSI        13647.0  4.990627e+01  1.504095e+01       0.000000  3.957659e+01   \n",
       "MACD       13647.0 -2.698564e-02  2.203216e+00      -7.384103 -1.472511e+00   \n",
       "Sentiment  13647.0 -1.146381e-03  5.735740e-01      -0.999338 -4.993465e-01   \n",
       "Target     13647.0  5.009160e-01  5.000175e-01       0.000000  0.000000e+00   \n",
       "\n",
       "                    50%           75%           max  \n",
       "Open       7.523206e+01  1.712820e+02  3.229960e+02  \n",
       "High       7.676512e+01  1.729486e+02  3.237693e+02  \n",
       "Low        7.383389e+01  1.696651e+02  3.209499e+02  \n",
       "Close      7.527154e+01  1.712788e+02  3.236221e+02  \n",
       "Volume     2.550567e+06  3.779358e+06  4.999938e+06  \n",
       "RSI        4.991158e+01  6.022049e+01  9.761496e+01  \n",
       "MACD       1.228432e-02  1.416378e+00  7.288539e+00  \n",
       "Sentiment  3.137550e-03  4.911611e-01  9.998240e-01  \n",
       "Target     1.000000e+00  1.000000e+00  1.000000e+00  "
      ]
     },
     "execution_count": 35,
     "metadata": {},
     "output_type": "execute_result"
    }
   ],
   "source": [
    "df.describe().T"
   ]
  },
  {
   "cell_type": "code",
   "execution_count": 43,
   "id": "b3a22fe8-8e90-4f28-9309-e70d67d00b06",
   "metadata": {},
   "outputs": [
    {
     "name": "stdout",
     "output_type": "stream",
     "text": [
      "<class 'pandas.core.frame.DataFrame'>\n",
      "RangeIndex: 13647 entries, 0 to 13646\n",
      "Data columns (total 10 columns):\n",
      " #   Column     Non-Null Count  Dtype  \n",
      "---  ------     --------------  -----  \n",
      " 0   Date       13647 non-null  object \n",
      " 1   Open       13647 non-null  float64\n",
      " 2   High       13647 non-null  float64\n",
      " 3   Low        13647 non-null  float64\n",
      " 4   Close      13647 non-null  float64\n",
      " 5   Volume     13647 non-null  int64  \n",
      " 6   RSI        13647 non-null  float64\n",
      " 7   MACD       13647 non-null  float64\n",
      " 8   Sentiment  13647 non-null  float64\n",
      " 9   Target     13647 non-null  int64  \n",
      "dtypes: float64(7), int64(2), object(1)\n",
      "memory usage: 1.0+ MB\n"
     ]
    }
   ],
   "source": [
    "df.info()"
   ]
  },
  {
   "cell_type": "code",
   "execution_count": 37,
   "id": "90f99ddb-91a5-45ef-8e11-dab007edc80d",
   "metadata": {},
   "outputs": [
    {
     "data": {
      "text/plain": [
       "(13647, 10)"
      ]
     },
     "execution_count": 37,
     "metadata": {},
     "output_type": "execute_result"
    }
   ],
   "source": [
    "df.shape"
   ]
  },
  {
   "cell_type": "code",
   "execution_count": 46,
   "id": "d317428e-004a-4e30-a0b5-62a83ffc755a",
   "metadata": {},
   "outputs": [],
   "source": [
    "df2=df"
   ]
  },
  {
   "cell_type": "code",
   "execution_count": 48,
   "id": "45a1f97d-ce1e-4f77-a42e-bb0b18f92b9e",
   "metadata": {},
   "outputs": [
    {
     "data": {
      "image/png": "[encoded data removed]",
      "text/plain": [
       "<Figure size 1000x400 with 1 Axes>"
      ]
     },
     "metadata": {},
     "output_type": "display_data"
    }
   ],
   "source": [
    "plt.figure(figsize=(10,4))\n",
    "plt.hist(df2['Sentiment'], bins=20, color='skyblue')\n",
    "plt.title('Sentiment distribution')\n",
    "plt.xlabel('Sentiment')\n",
    "plt.ylabel('No of investors')\n",
    "plt.show()"
   ]
  },
  {
   "cell_type": "markdown",
   "id": "d2d86168-8b79-4919-a764-e1a1686a9a98",
   "metadata": {},
   "source": [
    "# Observation \n",
    "\n",
    "It shows the sentimental range of the investors"
   ]
  },
  {
   "cell_type": "markdown",
   "id": "3850ee6a-ef7d-479a-87b1-3869f0250781",
   "metadata": {},
   "source": [
    "# Let's see is their any outliers\n",
    "\n",
    "We are using iqr treatment function "
   ]
  },
  {
   "cell_type": "code",
   "execution_count": 50,
   "id": "353ba63a-f3a4-4c5f-b651-f8be2849bc72",
   "metadata": {},
   "outputs": [
    {
     "data": {
      "text/plain": [
       "<Axes: ylabel='Sentiment'>"
      ]
     },
     "execution_count": 50,
     "metadata": {},
     "output_type": "execute_result"
    },
    {
     "data": {
      "image/png": "[encoded data removed]",
      "text/plain": [
       "<Figure size 640x480 with 1 Axes>"
      ]
     },
     "metadata": {},
     "output_type": "display_data"
    }
   ],
   "source": [
    "sns.boxplot(df2[\"Sentiment\"])"
   ]
  },
  {
   "cell_type": "code",
   "execution_count": 54,
   "id": "7ad8e16a-7b5c-49d4-b5ff-079b1cb905c0",
   "metadata": {},
   "outputs": [
    {
     "data": {
      "image/png": "[encoded data removed]",
      "text/plain": [
       "<Figure size 1600x500 with 2 Axes>"
      ]
     },
     "metadata": {},
     "output_type": "display_data"
    }
   ],
   "source": [
    "plt.figure(figsize=(16,5))\n",
    "plt.subplot(1,2,1)\n",
    "sns.distplot(df2['Sentiment'])\n",
    "\n",
    "plt.subplot(1,2,2)\n",
    "sns.distplot(df2['Open'])\n",
    "\n",
    "\n",
    "plt.show()\n",
    "\n",
    "import warnings\n",
    "warnings.simplefilter(action='ignore', category=FutureWarning)\n",
    "warnings.simplefilter(action='ignore', category=UserWarning)"
   ]
  },
  {
   "cell_type": "code",
   "execution_count": 56,
   "id": "0288fb35-4879-4219-a9cf-efac50a26cc7",
   "metadata": {},
   "outputs": [
    {
     "data": {
      "image/png": "[encoded data removed]",
      "text/plain": [
       "<Figure size 1600x500 with 2 Axes>"
      ]
     },
     "metadata": {},
     "output_type": "display_data"
    }
   ],
   "source": [
    "plt.figure(figsize=(16,5))\n",
    "plt.subplot(1,2,1)\n",
    "sns.distplot(df2['Low'])\n",
    "\n",
    "plt.subplot(1,2,2)\n",
    "sns.distplot(df2['High'])\n",
    "\n",
    "\n",
    "plt.show()\n",
    "\n",
    "import warnings\n",
    "warnings.simplefilter(action='ignore', category=FutureWarning)\n",
    "warnings.simplefilter(action='ignore', category=UserWarning)"
   ]
  },
  {
   "cell_type": "code",
   "execution_count": 66,
   "id": "5baed217-e0cd-405d-a407-33bcf6f05198",
   "metadata": {},
   "outputs": [
    {
     "name": "stdout",
     "output_type": "stream",
     "text": [
      "0.00014780701641509632\n",
      "0.5785378214955651\n",
      "0.5782996429123015\n",
      "0.5786326486588846\n"
     ]
    }
   ],
   "source": [
    "print(df2['Sentiment'].skew())\n",
    "print(df2['Open'].skew())\n",
    "print(df2['High'].skew())\n",
    "print(df2['Low'].skew())"
   ]
  },
  {
   "cell_type": "markdown",
   "id": "342124b5-7223-433d-ba25-bc76880bca6f",
   "metadata": {},
   "source": [
    "# Here isn't that much skweness seen a little bit in the features so we will continue work with this"
   ]
  },
  {
   "cell_type": "markdown",
   "id": "ed4c4662-107b-4f4a-90f0-d1017ec9937b",
   "metadata": {},
   "source": [
    "# Let's train "
   ]
  },
  {
   "cell_type": "code",
   "execution_count": 71,
   "id": "ca118724-afad-4afb-b47f-d524d3de8c7e",
   "metadata": {},
   "outputs": [],
   "source": [
    "x = df2.drop(['Date','Sentiment'], axis=1)  \n",
    "y = df2['Sentiment']"
   ]
  },
  {
   "cell_type": "markdown",
   "id": "06430623-155c-4e2b-94fd-2817d76febf5",
   "metadata": {},
   "source": [
    "We don't need id in our features as it doesn't play any role and price also cause it's the value we want to pridict so it is on the taget value"
   ]
  },
  {
   "cell_type": "code",
   "execution_count": 74,
   "id": "abb05f17-4721-43d6-b46f-0091a4af54e8",
   "metadata": {},
   "outputs": [
    {
     "data": {
      "text/plain": [
       "(13647, 8)"
      ]
     },
     "execution_count": 74,
     "metadata": {},
     "output_type": "execute_result"
    }
   ],
   "source": [
    "x.shape"
   ]
  },
  {
   "cell_type": "code",
   "execution_count": 76,
   "id": "0a5c5672-5d6a-4d8a-89a6-98a22851899b",
   "metadata": {},
   "outputs": [
    {
     "data": {
      "text/html": [
       "<div>\n",
       "<style scoped>\n",
       "    .dataframe tbody tr th:only-of-type {\n",
       "        vertical-align: middle;\n",
       "    }\n",
       "\n",
       "    .dataframe tbody tr th {\n",
       "        vertical-align: top;\n",
       "    }\n",
       "\n",
       "    .dataframe thead th {\n",
       "        text-align: right;\n",
       "    }\n",
       "</style>\n",
       "<table border=\"1\" class=\"dataframe\">\n",
       "  <thead>\n",
       "    <tr style=\"text-align: right;\">\n",
       "      <th></th>\n",
       "      <th>Open</th>\n",
       "      <th>High</th>\n",
       "      <th>Low</th>\n",
       "      <th>Close</th>\n",
       "      <th>Volume</th>\n",
       "      <th>RSI</th>\n",
       "      <th>MACD</th>\n",
       "      <th>Target</th>\n",
       "    </tr>\n",
       "  </thead>\n",
       "  <tbody>\n",
       "    <tr>\n",
       "      <th>0</th>\n",
       "      <td>100.309172</td>\n",
       "      <td>102.741242</td>\n",
       "      <td>99.822837</td>\n",
       "      <td>101.381330</td>\n",
       "      <td>743835</td>\n",
       "      <td>75.905800</td>\n",
       "      <td>0.000000</td>\n",
       "      <td>0</td>\n",
       "    </tr>\n",
       "    <tr>\n",
       "      <th>1</th>\n",
       "      <td>101.147509</td>\n",
       "      <td>101.681257</td>\n",
       "      <td>99.244474</td>\n",
       "      <td>100.396541</td>\n",
       "      <td>2693069</td>\n",
       "      <td>81.444127</td>\n",
       "      <td>-0.078559</td>\n",
       "      <td>1</td>\n",
       "    </tr>\n",
       "    <tr>\n",
       "      <th>2</th>\n",
       "      <td>101.567491</td>\n",
       "      <td>103.949668</td>\n",
       "      <td>101.509347</td>\n",
       "      <td>103.012156</td>\n",
       "      <td>3027306</td>\n",
       "      <td>71.544018</td>\n",
       "      <td>0.069441</td>\n",
       "      <td>1</td>\n",
       "    </tr>\n",
       "    <tr>\n",
       "      <th>3</th>\n",
       "      <td>104.247814</td>\n",
       "      <td>106.652559</td>\n",
       "      <td>102.760082</td>\n",
       "      <td>105.846343</td>\n",
       "      <td>4341338</td>\n",
       "      <td>73.683548</td>\n",
       "      <td>0.410693</td>\n",
       "      <td>0</td>\n",
       "    </tr>\n",
       "  </tbody>\n",
       "</table>\n",
       "</div>"
      ],
      "text/plain": [
       "         Open        High         Low       Close   Volume        RSI  \\\n",
       "0  100.309172  102.741242   99.822837  101.381330   743835  75.905800   \n",
       "1  101.147509  101.681257   99.244474  100.396541  2693069  81.444127   \n",
       "2  101.567491  103.949668  101.509347  103.012156  3027306  71.544018   \n",
       "3  104.247814  106.652559  102.760082  105.846343  4341338  73.683548   \n",
       "\n",
       "       MACD  Target  \n",
       "0  0.000000       0  \n",
       "1 -0.078559       1  \n",
       "2  0.069441       1  \n",
       "3  0.410693       0  "
      ]
     },
     "execution_count": 76,
     "metadata": {},
     "output_type": "execute_result"
    }
   ],
   "source": [
    "x.head(4)"
   ]
  },
  {
   "cell_type": "code",
   "execution_count": 78,
   "id": "2f776bc1-3280-4560-b090-57ac74a65cb7",
   "metadata": {},
   "outputs": [
    {
     "data": {
      "text/plain": [
       "(13647,)"
      ]
     },
     "execution_count": 78,
     "metadata": {},
     "output_type": "execute_result"
    }
   ],
   "source": [
    "y.shape"
   ]
  },
  {
   "cell_type": "markdown",
   "id": "1077d1de-3ca4-494c-a77e-db88929c5121",
   "metadata": {},
   "source": [
    "# We are using 80 percent to train and 20 percent to test \n",
    "our target value is Sentiment(How much sentimental are investers with opening a trade closing it and how high it goes and loes )"
   ]
  },
  {
   "cell_type": "code",
   "execution_count": 81,
   "id": "010bf6dc-d887-4917-9c2a-676588c1b2d8",
   "metadata": {},
   "outputs": [],
   "source": [
    "from sklearn.model_selection import train_test_split\n",
    "X_train, X_test, y_train, y_test = train_test_split(x, y, test_size=0.2, random_state=21)"
   ]
  },
  {
   "cell_type": "code",
   "execution_count": 83,
   "id": "4f1102c5-960c-41fa-8746-aa6520b82352",
   "metadata": {},
   "outputs": [
    {
     "name": "stdout",
     "output_type": "stream",
     "text": [
      "(10917, 8)\n",
      "(2730, 8)\n"
     ]
    }
   ],
   "source": [
    "print(X_train.shape)\n",
    "print(X_test.shape)"
   ]
  },
  {
   "cell_type": "code",
   "execution_count": 85,
   "id": "e50e2eac-798d-475d-bd11-ac2359ecc7fe",
   "metadata": {},
   "outputs": [],
   "source": [
    "from sklearn.linear_model import LinearRegression"
   ]
  },
  {
   "cell_type": "code",
   "execution_count": 87,
   "id": "7965a3ff-b9b8-44ce-8e3a-f53a7026d2b4",
   "metadata": {},
   "outputs": [],
   "source": [
    "reg = LinearRegression()"
   ]
  },
  {
   "cell_type": "code",
   "execution_count": 89,
   "id": "d900e994-9181-4e53-9b19-87e69f7ca830",
   "metadata": {},
   "outputs": [
    {
     "data": {
      "text/html": [
       "<style>#sk-container-id-1 {\n",
       "  /* Definition of color scheme common for light and dark mode */\n",
       "  --sklearn-color-text: black;\n",
       "  --sklearn-color-line: gray;\n",
       "  /* Definition of color scheme for unfitted estimators */\n",
       "  --sklearn-color-unfitted-level-0: #fff5e6;\n",
       "  --sklearn-color-unfitted-level-1: #f6e4d2;\n",
       "  --sklearn-color-unfitted-level-2: #ffe0b3;\n",
       "  --sklearn-color-unfitted-level-3: chocolate;\n",
       "  /* Definition of color scheme for fitted estimators */\n",
       "  --sklearn-color-fitted-level-0: #f0f8ff;\n",
       "  --sklearn-color-fitted-level-1: #d4ebff;\n",
       "  --sklearn-color-fitted-level-2: #b3dbfd;\n",
       "  --sklearn-color-fitted-level-3: cornflowerblue;\n",
       "\n",
       "  /* Specific color for light theme */\n",
       "  --sklearn-color-text-on-default-background: var(--sg-text-color, var(--theme-code-foreground, var(--jp-content-font-color1, black)));\n",
       "  --sklearn-color-background: var(--sg-background-color, var(--theme-background, var(--jp-layout-color0, white)));\n",
       "  --sklearn-color-border-box: var(--sg-text-color, var(--theme-code-foreground, var(--jp-content-font-color1, black)));\n",
       "  --sklearn-color-icon: #696969;\n",
       "\n",
       "  @media (prefers-color-scheme: dark) {\n",
       "    /* Redefinition of color scheme for dark theme */\n",
       "    --sklearn-color-text-on-default-background: var(--sg-text-color, var(--theme-code-foreground, var(--jp-content-font-color1, white)));\n",
       "    --sklearn-color-background: var(--sg-background-color, var(--theme-background, var(--jp-layout-color0, #111)));\n",
       "    --sklearn-color-border-box: var(--sg-text-color, var(--theme-code-foreground, var(--jp-content-font-color1, white)));\n",
       "    --sklearn-color-icon: #878787;\n",
       "  }\n",
       "}\n",
       "\n",
       "#sk-container-id-1 {\n",
       "  color: var(--sklearn-color-text);\n",
       "}\n",
       "\n",
       "#sk-container-id-1 pre {\n",
       "  padding: 0;\n",
       "}\n",
       "\n",
       "#sk-container-id-1 input.sk-hidden--visually {\n",
       "  border: 0;\n",
       "  clip: rect(1px 1px 1px 1px);\n",
       "  clip: rect(1px, 1px, 1px, 1px);\n",
       "  height: 1px;\n",
       "  margin: -1px;\n",
       "  overflow: hidden;\n",
       "  padding: 0;\n",
       "  position: absolute;\n",
       "  width: 1px;\n",
       "}\n",
       "\n",
       "#sk-container-id-1 div.sk-dashed-wrapped {\n",
       "  border: 1px dashed var(--sklearn-color-line);\n",
       "  margin: 0 0.4em 0.5em 0.4em;\n",
       "  box-sizing: border-box;\n",
       "  padding-bottom: 0.4em;\n",
       "  background-color: var(--sklearn-color-background);\n",
       "}\n",
       "\n",
       "#sk-container-id-1 div.sk-container {\n",
       "  /* jupyter's `normalize.less` sets `[hidden] { display: none; }`\n",
       "     but bootstrap.min.css set `[hidden] { display: none !important; }`\n",
       "     so we also need the `!important` here to be able to override the\n",
       "     default hidden behavior on the sphinx rendered scikit-learn.org.\n",
       "     See: https://github.com/scikit-learn/scikit-learn/issues/21755 */\n",
       "  display: inline-block !important;\n",
       "  position: relative;\n",
       "}\n",
       "\n",
       "#sk-container-id-1 div.sk-text-repr-fallback {\n",
       "  display: none;\n",
       "}\n",
       "\n",
       "div.sk-parallel-item,\n",
       "div.sk-serial,\n",
       "div.sk-item {\n",
       "  /* draw centered vertical line to link estimators */\n",
       "  background-image: linear-gradient(var(--sklearn-color-text-on-default-background), var(--sklearn-color-text-on-default-background));\n",
       "  background-size: 2px 100%;\n",
       "  background-repeat: no-repeat;\n",
       "  background-position: center center;\n",
       "}\n",
       "\n",
       "/* Parallel-specific style estimator block */\n",
       "\n",
       "#sk-container-id-1 div.sk-parallel-item::after {\n",
       "  content: \"\";\n",
       "  width: 100%;\n",
       "  border-bottom: 2px solid var(--sklearn-color-text-on-default-background);\n",
       "  flex-grow: 1;\n",
       "}\n",
       "\n",
       "#sk-container-id-1 div.sk-parallel {\n",
       "  display: flex;\n",
       "  align-items: stretch;\n",
       "  justify-content: center;\n",
       "  background-color: var(--sklearn-color-background);\n",
       "  position: relative;\n",
       "}\n",
       "\n",
       "#sk-container-id-1 div.sk-parallel-item {\n",
       "  display: flex;\n",
       "  flex-direction: column;\n",
       "}\n",
       "\n",
       "#sk-container-id-1 div.sk-parallel-item:first-child::after {\n",
       "  align-self: flex-end;\n",
       "  width: 50%;\n",
       "}\n",
       "\n",
       "#sk-container-id-1 div.sk-parallel-item:last-child::after {\n",
       "  align-self: flex-start;\n",
       "  width: 50%;\n",
       "}\n",
       "\n",
       "#sk-container-id-1 div.sk-parallel-item:only-child::after {\n",
       "  width: 0;\n",
       "}\n",
       "\n",
       "/* Serial-specific style estimator block */\n",
       "\n",
       "#sk-container-id-1 div.sk-serial {\n",
       "  display: flex;\n",
       "  flex-direction: column;\n",
       "  align-items: center;\n",
       "  background-color: var(--sklearn-color-background);\n",
       "  padding-right: 1em;\n",
       "  padding-left: 1em;\n",
       "}\n",
       "\n",
       "\n",
       "/* Toggleable style: style used for estimator/Pipeline/ColumnTransformer box that is\n",
       "clickable and can be expanded/collapsed.\n",
       "- Pipeline and ColumnTransformer use this feature and define the default style\n",
       "- Estimators will overwrite some part of the style using the `sk-estimator` class\n",
       "*/\n",
       "\n",
       "/* Pipeline and ColumnTransformer style (default) */\n",
       "\n",
       "#sk-container-id-1 div.sk-toggleable {\n",
       "  /* Default theme specific background. It is overwritten whether we have a\n",
       "  specific estimator or a Pipeline/ColumnTransformer */\n",
       "  background-color: var(--sklearn-color-background);\n",
       "}\n",
       "\n",
       "/* Toggleable label */\n",
       "#sk-container-id-1 label.sk-toggleable__label {\n",
       "  cursor: pointer;\n",
       "  display: block;\n",
       "  width: 100%;\n",
       "  margin-bottom: 0;\n",
       "  padding: 0.5em;\n",
       "  box-sizing: border-box;\n",
       "  text-align: center;\n",
       "}\n",
       "\n",
       "#sk-container-id-1 label.sk-toggleable__label-arrow:before {\n",
       "  /* Arrow on the left of the label */\n",
       "  content: \"▸\";\n",
       "  float: left;\n",
       "  margin-right: 0.25em;\n",
       "  color: var(--sklearn-color-icon);\n",
       "}\n",
       "\n",
       "#sk-container-id-1 label.sk-toggleable__label-arrow:hover:before {\n",
       "  color: var(--sklearn-color-text);\n",
       "}\n",
       "\n",
       "/* Toggleable content - dropdown */\n",
       "\n",
       "#sk-container-id-1 div.sk-toggleable__content {\n",
       "  max-height: 0;\n",
       "  max-width: 0;\n",
       "  overflow: hidden;\n",
       "  text-align: left;\n",
       "  /* unfitted */\n",
       "  background-color: var(--sklearn-color-unfitted-level-0);\n",
       "}\n",
       "\n",
       "#sk-container-id-1 div.sk-toggleable__content.fitted {\n",
       "  /* fitted */\n",
       "  background-color: var(--sklearn-color-fitted-level-0);\n",
       "}\n",
       "\n",
       "#sk-container-id-1 div.sk-toggleable__content pre {\n",
       "  margin: 0.2em;\n",
       "  border-radius: 0.25em;\n",
       "  color: var(--sklearn-color-text);\n",
       "  /* unfitted */\n",
       "  background-color: var(--sklearn-color-unfitted-level-0);\n",
       "}\n",
       "\n",
       "#sk-container-id-1 div.sk-toggleable__content.fitted pre {\n",
       "  /* unfitted */\n",
       "  background-color: var(--sklearn-color-fitted-level-0);\n",
       "}\n",
       "\n",
       "#sk-container-id-1 input.sk-toggleable__control:checked~div.sk-toggleable__content {\n",
       "  /* Expand drop-down */\n",
       "  max-height: 200px;\n",
       "  max-width: 100%;\n",
       "  overflow: auto;\n",
       "}\n",
       "\n",
       "#sk-container-id-1 input.sk-toggleable__control:checked~label.sk-toggleable__label-arrow:before {\n",
       "  content: \"▾\";\n",
       "}\n",
       "\n",
       "/* Pipeline/ColumnTransformer-specific style */\n",
       "\n",
       "#sk-container-id-1 div.sk-label input.sk-toggleable__control:checked~label.sk-toggleable__label {\n",
       "  color: var(--sklearn-color-text);\n",
       "  background-color: var(--sklearn-color-unfitted-level-2);\n",
       "}\n",
       "\n",
       "#sk-container-id-1 div.sk-label.fitted input.sk-toggleable__control:checked~label.sk-toggleable__label {\n",
       "  background-color: var(--sklearn-color-fitted-level-2);\n",
       "}\n",
       "\n",
       "/* Estimator-specific style */\n",
       "\n",
       "/* Colorize estimator box */\n",
       "#sk-container-id-1 div.sk-estimator input.sk-toggleable__control:checked~label.sk-toggleable__label {\n",
       "  /* unfitted */\n",
       "  background-color: var(--sklearn-color-unfitted-level-2);\n",
       "}\n",
       "\n",
       "#sk-container-id-1 div.sk-estimator.fitted input.sk-toggleable__control:checked~label.sk-toggleable__label {\n",
       "  /* fitted */\n",
       "  background-color: var(--sklearn-color-fitted-level-2);\n",
       "}\n",
       "\n",
       "#sk-container-id-1 div.sk-label label.sk-toggleable__label,\n",
       "#sk-container-id-1 div.sk-label label {\n",
       "  /* The background is the default theme color */\n",
       "  color: var(--sklearn-color-text-on-default-background);\n",
       "}\n",
       "\n",
       "/* On hover, darken the color of the background */\n",
       "#sk-container-id-1 div.sk-label:hover label.sk-toggleable__label {\n",
       "  color: var(--sklearn-color-text);\n",
       "  background-color: var(--sklearn-color-unfitted-level-2);\n",
       "}\n",
       "\n",
       "/* Label box, darken color on hover, fitted */\n",
       "#sk-container-id-1 div.sk-label.fitted:hover label.sk-toggleable__label.fitted {\n",
       "  color: var(--sklearn-color-text);\n",
       "  background-color: var(--sklearn-color-fitted-level-2);\n",
       "}\n",
       "\n",
       "/* Estimator label */\n",
       "\n",
       "#sk-container-id-1 div.sk-label label {\n",
       "  font-family: monospace;\n",
       "  font-weight: bold;\n",
       "  display: inline-block;\n",
       "  line-height: 1.2em;\n",
       "}\n",
       "\n",
       "#sk-container-id-1 div.sk-label-container {\n",
       "  text-align: center;\n",
       "}\n",
       "\n",
       "/* Estimator-specific */\n",
       "#sk-container-id-1 div.sk-estimator {\n",
       "  font-family: monospace;\n",
       "  border: 1px dotted var(--sklearn-color-border-box);\n",
       "  border-radius: 0.25em;\n",
       "  box-sizing: border-box;\n",
       "  margin-bottom: 0.5em;\n",
       "  /* unfitted */\n",
       "  background-color: var(--sklearn-color-unfitted-level-0);\n",
       "}\n",
       "\n",
       "#sk-container-id-1 div.sk-estimator.fitted {\n",
       "  /* fitted */\n",
       "  background-color: var(--sklearn-color-fitted-level-0);\n",
       "}\n",
       "\n",
       "/* on hover */\n",
       "#sk-container-id-1 div.sk-estimator:hover {\n",
       "  /* unfitted */\n",
       "  background-color: var(--sklearn-color-unfitted-level-2);\n",
       "}\n",
       "\n",
       "#sk-container-id-1 div.sk-estimator.fitted:hover {\n",
       "  /* fitted */\n",
       "  background-color: var(--sklearn-color-fitted-level-2);\n",
       "}\n",
       "\n",
       "/* Specification for estimator info (e.g. \"i\" and \"?\") */\n",
       "\n",
       "/* Common style for \"i\" and \"?\" */\n",
       "\n",
       ".sk-estimator-doc-link,\n",
       "a:link.sk-estimator-doc-link,\n",
       "a:visited.sk-estimator-doc-link {\n",
       "  float: right;\n",
       "  font-size: smaller;\n",
       "  line-height: 1em;\n",
       "  font-family: monospace;\n",
       "  background-color: var(--sklearn-color-background);\n",
       "  border-radius: 1em;\n",
       "  height: 1em;\n",
       "  width: 1em;\n",
       "  text-decoration: none !important;\n",
       "  margin-left: 1ex;\n",
       "  /* unfitted */\n",
       "  border: var(--sklearn-color-unfitted-level-1) 1pt solid;\n",
       "  color: var(--sklearn-color-unfitted-level-1);\n",
       "}\n",
       "\n",
       ".sk-estimator-doc-link.fitted,\n",
       "a:link.sk-estimator-doc-link.fitted,\n",
       "a:visited.sk-estimator-doc-link.fitted {\n",
       "  /* fitted */\n",
       "  border: var(--sklearn-color-fitted-level-1) 1pt solid;\n",
       "  color: var(--sklearn-color-fitted-level-1);\n",
       "}\n",
       "\n",
       "/* On hover */\n",
       "div.sk-estimator:hover .sk-estimator-doc-link:hover,\n",
       ".sk-estimator-doc-link:hover,\n",
       "div.sk-label-container:hover .sk-estimator-doc-link:hover,\n",
       ".sk-estimator-doc-link:hover {\n",
       "  /* unfitted */\n",
       "  background-color: var(--sklearn-color-unfitted-level-3);\n",
       "  color: var(--sklearn-color-background);\n",
       "  text-decoration: none;\n",
       "}\n",
       "\n",
       "div.sk-estimator.fitted:hover .sk-estimator-doc-link.fitted:hover,\n",
       ".sk-estimator-doc-link.fitted:hover,\n",
       "div.sk-label-container:hover .sk-estimator-doc-link.fitted:hover,\n",
       ".sk-estimator-doc-link.fitted:hover {\n",
       "  /* fitted */\n",
       "  background-color: var(--sklearn-color-fitted-level-3);\n",
       "  color: var(--sklearn-color-background);\n",
       "  text-decoration: none;\n",
       "}\n",
       "\n",
       "/* Span, style for the box shown on hovering the info icon */\n",
       ".sk-estimator-doc-link span {\n",
       "  display: none;\n",
       "  z-index: 9999;\n",
       "  position: relative;\n",
       "  font-weight: normal;\n",
       "  right: .2ex;\n",
       "  padding: .5ex;\n",
       "  margin: .5ex;\n",
       "  width: min-content;\n",
       "  min-width: 20ex;\n",
       "  max-width: 50ex;\n",
       "  color: var(--sklearn-color-text);\n",
       "  box-shadow: 2pt 2pt 4pt #999;\n",
       "  /* unfitted */\n",
       "  background: var(--sklearn-color-unfitted-level-0);\n",
       "  border: .5pt solid var(--sklearn-color-unfitted-level-3);\n",
       "}\n",
       "\n",
       ".sk-estimator-doc-link.fitted span {\n",
       "  /* fitted */\n",
       "  background: var(--sklearn-color-fitted-level-0);\n",
       "  border: var(--sklearn-color-fitted-level-3);\n",
       "}\n",
       "\n",
       ".sk-estimator-doc-link:hover span {\n",
       "  display: block;\n",
       "}\n",
       "\n",
       "/* \"?\"-specific style due to the `<a>` HTML tag */\n",
       "\n",
       "#sk-container-id-1 a.estimator_doc_link {\n",
       "  float: right;\n",
       "  font-size: 1rem;\n",
       "  line-height: 1em;\n",
       "  font-family: monospace;\n",
       "  background-color: var(--sklearn-color-background);\n",
       "  border-radius: 1rem;\n",
       "  height: 1rem;\n",
       "  width: 1rem;\n",
       "  text-decoration: none;\n",
       "  /* unfitted */\n",
       "  color: var(--sklearn-color-unfitted-level-1);\n",
       "  border: var(--sklearn-color-unfitted-level-1) 1pt solid;\n",
       "}\n",
       "\n",
       "#sk-container-id-1 a.estimator_doc_link.fitted {\n",
       "  /* fitted */\n",
       "  border: var(--sklearn-color-fitted-level-1) 1pt solid;\n",
       "  color: var(--sklearn-color-fitted-level-1);\n",
       "}\n",
       "\n",
       "/* On hover */\n",
       "#sk-container-id-1 a.estimator_doc_link:hover {\n",
       "  /* unfitted */\n",
       "  background-color: var(--sklearn-color-unfitted-level-3);\n",
       "  color: var(--sklearn-color-background);\n",
       "  text-decoration: none;\n",
       "}\n",
       "\n",
       "#sk-container-id-1 a.estimator_doc_link.fitted:hover {\n",
       "  /* fitted */\n",
       "  background-color: var(--sklearn-color-fitted-level-3);\n",
       "}\n",
       "</style><div id=\"sk-container-id-1\" class=\"sk-top-container\"><div class=\"sk-text-repr-fallback\"><pre>LinearRegression()</pre><b>In a Jupyter environment, please rerun this cell to show the HTML representation or trust the notebook. <br />On GitHub, the HTML representation is unable to render, please try loading this page with nbviewer.org.</b></div><div class=\"sk-container\" hidden><div class=\"sk-item\"><div class=\"sk-estimator fitted sk-toggleable\"><input class=\"sk-toggleable__control sk-hidden--visually\" id=\"sk-estimator-id-1\" type=\"checkbox\" checked><label for=\"sk-estimator-id-1\" class=\"sk-toggleable__label fitted sk-toggleable__label-arrow fitted\">&nbsp;&nbsp;LinearRegression<a class=\"sk-estimator-doc-link fitted\" rel=\"noreferrer\" target=\"_blank\" href=\"https://scikit-learn.org/1.4/modules/generated/sklearn.linear_model.LinearRegression.html\">?<span>Documentation for LinearRegression</span></a><span class=\"sk-estimator-doc-link fitted\">i<span>Fitted</span></span></label><div class=\"sk-toggleable__content fitted\"><pre>LinearRegression()</pre></div> </div></div></div></div>"
      ],
      "text/plain": [
       "LinearRegression()"
      ]
     },
     "execution_count": 89,
     "metadata": {},
     "output_type": "execute_result"
    }
   ],
   "source": [
    "reg.fit(X_train,y_train)"
   ]
  },
  {
   "cell_type": "code",
   "execution_count": 91,
   "id": "7deb115b-2479-4ac1-bf47-004e25722cae",
   "metadata": {},
   "outputs": [],
   "source": [
    "y_pred = reg.predict(X_test)"
   ]
  },
  {
   "cell_type": "code",
   "execution_count": 93,
   "id": "67dae9d4-42de-4d27-a2f2-dece2ed39787",
   "metadata": {},
   "outputs": [],
   "source": [
    "from sklearn.metrics import r2_score"
   ]
  },
  {
   "cell_type": "code",
   "execution_count": 95,
   "id": "edc3380c-2dd6-4752-8254-a7e6798ecf6a",
   "metadata": {},
   "outputs": [
    {
     "data": {
      "text/plain": [
       "-0.00019041890485493873"
      ]
     },
     "execution_count": 95,
     "metadata": {},
     "output_type": "execute_result"
    }
   ],
   "source": [
    "r2_score(y_test,y_pred)"
   ]
  },
  {
   "cell_type": "code",
   "execution_count": 97,
   "id": "d488ac40-71a8-4b1a-8feb-5791aeff4497",
   "metadata": {},
   "outputs": [
    {
     "data": {
      "text/plain": [
       "array([-6.08433569e-03, -6.25717260e-03,  8.92621898e-03,  3.39915551e-03,\n",
       "       -4.49516660e-09,  6.83096529e-06,  2.80273867e-03,  1.61238469e-02])"
      ]
     },
     "execution_count": 97,
     "metadata": {},
     "output_type": "execute_result"
    }
   ],
   "source": [
    "reg.coef_"
   ]
  },
  {
   "cell_type": "code",
   "execution_count": 99,
   "id": "a2b9bfe0-347c-4b4d-ad90-52879c9f320a",
   "metadata": {},
   "outputs": [
    {
     "data": {
      "text/plain": [
       "0.026518367755873497"
      ]
     },
     "execution_count": 99,
     "metadata": {},
     "output_type": "execute_result"
    }
   ],
   "source": [
    "reg.intercept_"
   ]
  },
  {
   "cell_type": "code",
   "execution_count": 101,
   "id": "bf4365d6-f4f9-4c6c-977a-21315c534106",
   "metadata": {},
   "outputs": [],
   "source": [
    "import warnings\n",
    "warnings.filterwarnings('ignore')"
   ]
  },
  {
   "cell_type": "code",
   "execution_count": 105,
   "id": "d8ee74f9-d08f-4237-b710-5d19d6426e04",
   "metadata": {},
   "outputs": [
    {
     "data": {
      "text/plain": [
       "array([-0.01013357])"
      ]
     },
     "execution_count": 105,
     "metadata": {},
     "output_type": "execute_result"
    }
   ],
   "source": [
    "reg.predict(X_test.iloc[0].values.reshape(1,8))"
   ]
  },
  {
   "cell_type": "code",
   "execution_count": 107,
   "id": "c83670d1-a9bf-40d9-a5f5-9ae38c011110",
   "metadata": {},
   "outputs": [],
   "source": [
    "from sklearn.metrics import mean_absolute_error,mean_squared_error,r2_score"
   ]
  },
  {
   "cell_type": "code",
   "execution_count": 109,
   "id": "3f406a14-09cd-423c-969a-f624e5420b58",
   "metadata": {},
   "outputs": [],
   "source": [
    "y_pred = reg.predict(X_test)"
   ]
  },
  {
   "cell_type": "code",
   "execution_count": 111,
   "id": "806f5f2b-e0ff-4abb-ad10-e29560f7bc7c",
   "metadata": {},
   "outputs": [
    {
     "data": {
      "text/plain": [
       "array([ 0.05435342, -0.02537612,  0.18851556, ..., -0.49862103,\n",
       "       -0.37809032, -0.01368454])"
      ]
     },
     "execution_count": 111,
     "metadata": {},
     "output_type": "execute_result"
    }
   ],
   "source": [
    "y_test.values"
   ]
  },
  {
   "cell_type": "code",
   "execution_count": 113,
   "id": "db7e62fa-6a88-4343-bae4-3e5f4378eba5",
   "metadata": {},
   "outputs": [
    {
     "name": "stdout",
     "output_type": "stream",
     "text": [
      "MAE: 0.50\n"
     ]
    }
   ],
   "source": [
    "mae= mean_absolute_error(y_test,y_pred)\n",
    "print(f'MAE: {mae:.2f}')"
   ]
  },
  {
   "cell_type": "code",
   "execution_count": 115,
   "id": "a1989a94-b601-43cb-bf06-80743090964c",
   "metadata": {},
   "outputs": [
    {
     "name": "stdout",
     "output_type": "stream",
     "text": [
      "MSE: 0.33\n"
     ]
    }
   ],
   "source": [
    "mse= mean_squared_error(y_test,y_pred)\n",
    "print(f'MSE: {mse:.2f}')"
   ]
  },
  {
   "cell_type": "code",
   "execution_count": 117,
   "id": "74d2f831-7d72-4875-b443-a56680a3bb8a",
   "metadata": {},
   "outputs": [
    {
     "name": "stdout",
     "output_type": "stream",
     "text": [
      "RMSE 0.5765309526588404\n"
     ]
    }
   ],
   "source": [
    "print(\"RMSE\",np.sqrt(mean_squared_error(y_test,y_pred)))"
   ]
  },
  {
   "cell_type": "code",
   "execution_count": 119,
   "id": "ff6c1980-0316-4257-8d4e-cff7eb435bff",
   "metadata": {},
   "outputs": [
    {
     "name": "stdout",
     "output_type": "stream",
     "text": [
      "RMSE 0.5765309526588404\n"
     ]
    }
   ],
   "source": [
    "print(\"RMSE\",np.sqrt(mean_squared_error(y_test,y_pred)))"
   ]
  },
  {
   "cell_type": "code",
   "execution_count": 121,
   "id": "b9e3bb91-7a6a-424d-bf41-6b49e2e79615",
   "metadata": {},
   "outputs": [
    {
     "name": "stdout",
     "output_type": "stream",
     "text": [
      "R2 -0.00019041890485493873\n"
     ]
    }
   ],
   "source": [
    "print(\"R2\",r2_score(y_test,y_pred))"
   ]
  },
  {
   "cell_type": "code",
   "execution_count": 125,
   "id": "0ea6dfbc-23c2-4361-9bc2-462828835cba",
   "metadata": {},
   "outputs": [
    {
     "data": {
      "image/png": "[encoded data removed]",
      "text/plain": [
       "<Figure size 1000x500 with 1 Axes>"
      ]
     },
     "metadata": {},
     "output_type": "display_data"
    }
   ],
   "source": [
    "plt.figure(figsize=(10,5))\n",
    "plt.scatter(y_test, y_pred, alpha=0.5)\n",
    "plt.plot([y_test.min(), y_test.max()], [y_test.min(), y_test.max()], 'r--')\n",
    "plt.xlabel('Actual Sentiment')\n",
    "plt.ylabel('Predicted Sentiment')\n",
    "plt.title('How Good Our Predictions is ?')\n",
    "plt.show()"
   ]
  },
  {
   "cell_type": "markdown",
   "id": "60a8cb41-b2a6-41e7-9353-ee946aa8e3ce",
   "metadata": {},
   "source": [
    "It shows that our model is just 0.1 or 0.3 percent good"
   ]
  },
  {
   "cell_type": "code",
   "execution_count": null,
   "id": "a171979d-a971-4c3f-ab42-e950bf922f3e",
   "metadata": {},
   "outputs": [],
   "source": []
  }
 ],
 "metadata": {
  "kernelspec": {
   "display_name": "Python 3 (ipykernel)",
   "language": "python",
   "name": "python3"
  },
  "language_info": {
   "codemirror_mode": {
    "name": "ipython",
    "version": 3
   },
   "file_extension": ".py",
   "mimetype": "text/x-python",
   "name": "python",
   "nbconvert_exporter": "python",
   "pygments_lexer": "ipython3",
   "version": "3.12.4"
  }
 },
 "nbformat": 4,
 "nbformat_minor": 5
}
