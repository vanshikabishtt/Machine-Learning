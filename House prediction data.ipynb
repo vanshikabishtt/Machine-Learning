{
 "cells": [
  {
   "cell_type": "code",
   "execution_count": 115,
   "id": "4a29451f-074a-4ec5-bcd5-335ed34c574c",
   "metadata": {},
   "outputs": [],
   "source": [
    "import pandas as pd\n",
    "import numpy as np\n",
    "import seaborn as sns\n",
    "import matplotlib.pyplot as plt"
   ]
  },
  {
   "cell_type": "code",
   "execution_count": 116,
   "id": "071dc683-cabb-46c2-8c95-d58e3aa611b8",
   "metadata": {},
   "outputs": [],
   "source": [
    "df= pd.read_csv(\"C:\\\\Users\\\\sb193\\\\Downloads\\\\House Price Prediction Dataset.csv\")"
   ]
  },
  {
   "cell_type": "code",
   "execution_count": 117,
   "id": "03d44543-09e9-441b-a52d-e47027675c17",
   "metadata": {},
   "outputs": [
    {
     "data": {
      "text/html": [
       "<div>\n",
       "<style scoped>\n",
       "    .dataframe tbody tr th:only-of-type {\n",
       "        vertical-align: middle;\n",
       "    }\n",
       "\n",
       "    .dataframe tbody tr th {\n",
       "        vertical-align: top;\n",
       "    }\n",
       "\n",
       "    .dataframe thead th {\n",
       "        text-align: right;\n",
       "    }\n",
       "</style>\n",
       "<table border=\"1\" class=\"dataframe\">\n",
       "  <thead>\n",
       "    <tr style=\"text-align: right;\">\n",
       "      <th></th>\n",
       "      <th>Id</th>\n",
       "      <th>Area</th>\n",
       "      <th>Bedrooms</th>\n",
       "      <th>Bathrooms</th>\n",
       "      <th>Floors</th>\n",
       "      <th>YearBuilt</th>\n",
       "      <th>Location</th>\n",
       "      <th>Condition</th>\n",
       "      <th>Garage</th>\n",
       "      <th>Price</th>\n",
       "    </tr>\n",
       "  </thead>\n",
       "  <tbody>\n",
       "    <tr>\n",
       "      <th>0</th>\n",
       "      <td>1</td>\n",
       "      <td>1360</td>\n",
       "      <td>5</td>\n",
       "      <td>4</td>\n",
       "      <td>3</td>\n",
       "      <td>1970</td>\n",
       "      <td>Downtown</td>\n",
       "      <td>Excellent</td>\n",
       "      <td>No</td>\n",
       "      <td>149919</td>\n",
       "    </tr>\n",
       "    <tr>\n",
       "      <th>1</th>\n",
       "      <td>2</td>\n",
       "      <td>4272</td>\n",
       "      <td>5</td>\n",
       "      <td>4</td>\n",
       "      <td>3</td>\n",
       "      <td>1958</td>\n",
       "      <td>Downtown</td>\n",
       "      <td>Excellent</td>\n",
       "      <td>No</td>\n",
       "      <td>424998</td>\n",
       "    </tr>\n",
       "    <tr>\n",
       "      <th>2</th>\n",
       "      <td>3</td>\n",
       "      <td>3592</td>\n",
       "      <td>2</td>\n",
       "      <td>2</td>\n",
       "      <td>3</td>\n",
       "      <td>1938</td>\n",
       "      <td>Downtown</td>\n",
       "      <td>Good</td>\n",
       "      <td>No</td>\n",
       "      <td>266746</td>\n",
       "    </tr>\n",
       "    <tr>\n",
       "      <th>3</th>\n",
       "      <td>4</td>\n",
       "      <td>966</td>\n",
       "      <td>4</td>\n",
       "      <td>2</td>\n",
       "      <td>2</td>\n",
       "      <td>1902</td>\n",
       "      <td>Suburban</td>\n",
       "      <td>Fair</td>\n",
       "      <td>Yes</td>\n",
       "      <td>244020</td>\n",
       "    </tr>\n",
       "    <tr>\n",
       "      <th>4</th>\n",
       "      <td>5</td>\n",
       "      <td>4926</td>\n",
       "      <td>1</td>\n",
       "      <td>4</td>\n",
       "      <td>2</td>\n",
       "      <td>1975</td>\n",
       "      <td>Downtown</td>\n",
       "      <td>Fair</td>\n",
       "      <td>Yes</td>\n",
       "      <td>636056</td>\n",
       "    </tr>\n",
       "  </tbody>\n",
       "</table>\n",
       "</div>"
      ],
      "text/plain": [
       "   Id  Area  Bedrooms  Bathrooms  Floors  YearBuilt  Location  Condition  \\\n",
       "0   1  1360         5          4       3       1970  Downtown  Excellent   \n",
       "1   2  4272         5          4       3       1958  Downtown  Excellent   \n",
       "2   3  3592         2          2       3       1938  Downtown       Good   \n",
       "3   4   966         4          2       2       1902  Suburban       Fair   \n",
       "4   5  4926         1          4       2       1975  Downtown       Fair   \n",
       "\n",
       "  Garage   Price  \n",
       "0     No  149919  \n",
       "1     No  424998  \n",
       "2     No  266746  \n",
       "3    Yes  244020  \n",
       "4    Yes  636056  "
      ]
     },
     "execution_count": 117,
     "metadata": {},
     "output_type": "execute_result"
    }
   ],
   "source": [
    "df.head()"
   ]
  },
  {
   "cell_type": "markdown",
   "id": "21900d57-ad8c-44f5-9051-84a647b8c556",
   "metadata": {},
   "source": [
    "This show top 5 rows of the dataset"
   ]
  },
  {
   "cell_type": "code",
   "execution_count": 118,
   "id": "e916182e-0e42-454e-a891-50e17fe08bf2",
   "metadata": {},
   "outputs": [
    {
     "data": {
      "text/html": [
       "<div>\n",
       "<style scoped>\n",
       "    .dataframe tbody tr th:only-of-type {\n",
       "        vertical-align: middle;\n",
       "    }\n",
       "\n",
       "    .dataframe tbody tr th {\n",
       "        vertical-align: top;\n",
       "    }\n",
       "\n",
       "    .dataframe thead th {\n",
       "        text-align: right;\n",
       "    }\n",
       "</style>\n",
       "<table border=\"1\" class=\"dataframe\">\n",
       "  <thead>\n",
       "    <tr style=\"text-align: right;\">\n",
       "      <th></th>\n",
       "      <th>Id</th>\n",
       "      <th>Area</th>\n",
       "      <th>Bedrooms</th>\n",
       "      <th>Bathrooms</th>\n",
       "      <th>Floors</th>\n",
       "      <th>YearBuilt</th>\n",
       "      <th>Location</th>\n",
       "      <th>Condition</th>\n",
       "      <th>Garage</th>\n",
       "      <th>Price</th>\n",
       "    </tr>\n",
       "  </thead>\n",
       "  <tbody>\n",
       "    <tr>\n",
       "      <th>1995</th>\n",
       "      <td>1996</td>\n",
       "      <td>4994</td>\n",
       "      <td>5</td>\n",
       "      <td>4</td>\n",
       "      <td>3</td>\n",
       "      <td>1923</td>\n",
       "      <td>Suburban</td>\n",
       "      <td>Poor</td>\n",
       "      <td>No</td>\n",
       "      <td>295620</td>\n",
       "    </tr>\n",
       "    <tr>\n",
       "      <th>1996</th>\n",
       "      <td>1997</td>\n",
       "      <td>3046</td>\n",
       "      <td>5</td>\n",
       "      <td>2</td>\n",
       "      <td>1</td>\n",
       "      <td>2019</td>\n",
       "      <td>Suburban</td>\n",
       "      <td>Poor</td>\n",
       "      <td>Yes</td>\n",
       "      <td>580929</td>\n",
       "    </tr>\n",
       "    <tr>\n",
       "      <th>1997</th>\n",
       "      <td>1998</td>\n",
       "      <td>1062</td>\n",
       "      <td>5</td>\n",
       "      <td>1</td>\n",
       "      <td>2</td>\n",
       "      <td>1903</td>\n",
       "      <td>Rural</td>\n",
       "      <td>Poor</td>\n",
       "      <td>No</td>\n",
       "      <td>476925</td>\n",
       "    </tr>\n",
       "    <tr>\n",
       "      <th>1998</th>\n",
       "      <td>1999</td>\n",
       "      <td>4062</td>\n",
       "      <td>3</td>\n",
       "      <td>1</td>\n",
       "      <td>2</td>\n",
       "      <td>1936</td>\n",
       "      <td>Urban</td>\n",
       "      <td>Excellent</td>\n",
       "      <td>Yes</td>\n",
       "      <td>161119</td>\n",
       "    </tr>\n",
       "    <tr>\n",
       "      <th>1999</th>\n",
       "      <td>2000</td>\n",
       "      <td>2989</td>\n",
       "      <td>5</td>\n",
       "      <td>1</td>\n",
       "      <td>3</td>\n",
       "      <td>1903</td>\n",
       "      <td>Suburban</td>\n",
       "      <td>Fair</td>\n",
       "      <td>No</td>\n",
       "      <td>482525</td>\n",
       "    </tr>\n",
       "  </tbody>\n",
       "</table>\n",
       "</div>"
      ],
      "text/plain": [
       "        Id  Area  Bedrooms  Bathrooms  Floors  YearBuilt  Location  Condition  \\\n",
       "1995  1996  4994         5          4       3       1923  Suburban       Poor   \n",
       "1996  1997  3046         5          2       1       2019  Suburban       Poor   \n",
       "1997  1998  1062         5          1       2       1903     Rural       Poor   \n",
       "1998  1999  4062         3          1       2       1936     Urban  Excellent   \n",
       "1999  2000  2989         5          1       3       1903  Suburban       Fair   \n",
       "\n",
       "     Garage   Price  \n",
       "1995     No  295620  \n",
       "1996    Yes  580929  \n",
       "1997     No  476925  \n",
       "1998    Yes  161119  \n",
       "1999     No  482525  "
      ]
     },
     "execution_count": 118,
     "metadata": {},
     "output_type": "execute_result"
    }
   ],
   "source": [
    "df.tail()"
   ]
  },
  {
   "cell_type": "markdown",
   "id": "6acfa0da-f8a4-4826-8fea-57946473df4f",
   "metadata": {},
   "source": [
    "This show Last 5 rows of the dataset"
   ]
  },
  {
   "cell_type": "code",
   "execution_count": 119,
   "id": "6c55e045-b8b0-4e25-9b4d-8e16ed5f01d6",
   "metadata": {},
   "outputs": [
    {
     "data": {
      "text/plain": [
       "Id           0\n",
       "Area         0\n",
       "Bedrooms     0\n",
       "Bathrooms    0\n",
       "Floors       0\n",
       "YearBuilt    0\n",
       "Location     0\n",
       "Condition    0\n",
       "Garage       0\n",
       "Price        0\n",
       "dtype: int64"
      ]
     },
     "execution_count": 119,
     "metadata": {},
     "output_type": "execute_result"
    }
   ],
   "source": [
    "df.isnull().sum()"
   ]
  },
  {
   "cell_type": "markdown",
   "id": "d702bfa5-6056-4f10-bfe5-9fe97bf54655",
   "metadata": {},
   "source": [
    "As we see here in this dataset there is no null values so we can work with it \n",
    "now we just have to work on categorical values and outliers if any there are "
   ]
  },
  {
   "cell_type": "code",
   "execution_count": 121,
   "id": "82f6d11d-b3c2-4fa5-a850-dbd4715d41d8",
   "metadata": {},
   "outputs": [
    {
     "data": {
      "text/html": [
       "<div>\n",
       "<style scoped>\n",
       "    .dataframe tbody tr th:only-of-type {\n",
       "        vertical-align: middle;\n",
       "    }\n",
       "\n",
       "    .dataframe tbody tr th {\n",
       "        vertical-align: top;\n",
       "    }\n",
       "\n",
       "    .dataframe thead th {\n",
       "        text-align: right;\n",
       "    }\n",
       "</style>\n",
       "<table border=\"1\" class=\"dataframe\">\n",
       "  <thead>\n",
       "    <tr style=\"text-align: right;\">\n",
       "      <th></th>\n",
       "      <th>count</th>\n",
       "      <th>mean</th>\n",
       "      <th>std</th>\n",
       "      <th>min</th>\n",
       "      <th>25%</th>\n",
       "      <th>50%</th>\n",
       "      <th>75%</th>\n",
       "      <th>max</th>\n",
       "    </tr>\n",
       "  </thead>\n",
       "  <tbody>\n",
       "    <tr>\n",
       "      <th>Id</th>\n",
       "      <td>2000.0</td>\n",
       "      <td>1000.5000</td>\n",
       "      <td>577.494589</td>\n",
       "      <td>1.0</td>\n",
       "      <td>500.75</td>\n",
       "      <td>1000.5</td>\n",
       "      <td>1500.25</td>\n",
       "      <td>2000.0</td>\n",
       "    </tr>\n",
       "    <tr>\n",
       "      <th>Area</th>\n",
       "      <td>2000.0</td>\n",
       "      <td>2786.2095</td>\n",
       "      <td>1295.146799</td>\n",
       "      <td>501.0</td>\n",
       "      <td>1653.00</td>\n",
       "      <td>2833.0</td>\n",
       "      <td>3887.50</td>\n",
       "      <td>4999.0</td>\n",
       "    </tr>\n",
       "    <tr>\n",
       "      <th>Bedrooms</th>\n",
       "      <td>2000.0</td>\n",
       "      <td>3.0035</td>\n",
       "      <td>1.424606</td>\n",
       "      <td>1.0</td>\n",
       "      <td>2.00</td>\n",
       "      <td>3.0</td>\n",
       "      <td>4.00</td>\n",
       "      <td>5.0</td>\n",
       "    </tr>\n",
       "    <tr>\n",
       "      <th>Bathrooms</th>\n",
       "      <td>2000.0</td>\n",
       "      <td>2.5525</td>\n",
       "      <td>1.108990</td>\n",
       "      <td>1.0</td>\n",
       "      <td>2.00</td>\n",
       "      <td>3.0</td>\n",
       "      <td>4.00</td>\n",
       "      <td>4.0</td>\n",
       "    </tr>\n",
       "    <tr>\n",
       "      <th>Floors</th>\n",
       "      <td>2000.0</td>\n",
       "      <td>1.9935</td>\n",
       "      <td>0.809188</td>\n",
       "      <td>1.0</td>\n",
       "      <td>1.00</td>\n",
       "      <td>2.0</td>\n",
       "      <td>3.00</td>\n",
       "      <td>3.0</td>\n",
       "    </tr>\n",
       "    <tr>\n",
       "      <th>YearBuilt</th>\n",
       "      <td>2000.0</td>\n",
       "      <td>1961.4460</td>\n",
       "      <td>35.926695</td>\n",
       "      <td>1900.0</td>\n",
       "      <td>1930.00</td>\n",
       "      <td>1961.0</td>\n",
       "      <td>1993.00</td>\n",
       "      <td>2023.0</td>\n",
       "    </tr>\n",
       "    <tr>\n",
       "      <th>Price</th>\n",
       "      <td>2000.0</td>\n",
       "      <td>537676.8550</td>\n",
       "      <td>276428.845719</td>\n",
       "      <td>50005.0</td>\n",
       "      <td>300098.00</td>\n",
       "      <td>539254.0</td>\n",
       "      <td>780086.00</td>\n",
       "      <td>999656.0</td>\n",
       "    </tr>\n",
       "  </tbody>\n",
       "</table>\n",
       "</div>"
      ],
      "text/plain": [
       "            count         mean            std      min        25%       50%  \\\n",
       "Id         2000.0    1000.5000     577.494589      1.0     500.75    1000.5   \n",
       "Area       2000.0    2786.2095    1295.146799    501.0    1653.00    2833.0   \n",
       "Bedrooms   2000.0       3.0035       1.424606      1.0       2.00       3.0   \n",
       "Bathrooms  2000.0       2.5525       1.108990      1.0       2.00       3.0   \n",
       "Floors     2000.0       1.9935       0.809188      1.0       1.00       2.0   \n",
       "YearBuilt  2000.0    1961.4460      35.926695   1900.0    1930.00    1961.0   \n",
       "Price      2000.0  537676.8550  276428.845719  50005.0  300098.00  539254.0   \n",
       "\n",
       "                 75%       max  \n",
       "Id           1500.25    2000.0  \n",
       "Area         3887.50    4999.0  \n",
       "Bedrooms        4.00       5.0  \n",
       "Bathrooms       4.00       4.0  \n",
       "Floors          3.00       3.0  \n",
       "YearBuilt    1993.00    2023.0  \n",
       "Price      780086.00  999656.0  "
      ]
     },
     "execution_count": 121,
     "metadata": {},
     "output_type": "execute_result"
    }
   ],
   "source": [
    "df.describe().T"
   ]
  },
  {
   "cell_type": "code",
   "execution_count": 122,
   "id": "410fa513-b34f-4a5a-b745-220bbf8742b6",
   "metadata": {},
   "outputs": [
    {
     "data": {
      "text/plain": [
       "(2000, 10)"
      ]
     },
     "execution_count": 122,
     "metadata": {},
     "output_type": "execute_result"
    }
   ],
   "source": [
    "df.shape"
   ]
  },
  {
   "cell_type": "markdown",
   "id": "6cf9c2b3-a075-429e-8fde-8eae4dab6b03",
   "metadata": {},
   "source": [
    "It tells no of rows and columns "
   ]
  },
  {
   "cell_type": "code",
   "execution_count": 123,
   "id": "0ae2fdfe-cfe2-46c7-ae3c-7ec963f756ed",
   "metadata": {},
   "outputs": [
    {
     "name": "stdout",
     "output_type": "stream",
     "text": [
      "<class 'pandas.core.frame.DataFrame'>\n",
      "RangeIndex: 2000 entries, 0 to 1999\n",
      "Data columns (total 10 columns):\n",
      " #   Column     Non-Null Count  Dtype \n",
      "---  ------     --------------  ----- \n",
      " 0   Id         2000 non-null   int64 \n",
      " 1   Area       2000 non-null   int64 \n",
      " 2   Bedrooms   2000 non-null   int64 \n",
      " 3   Bathrooms  2000 non-null   int64 \n",
      " 4   Floors     2000 non-null   int64 \n",
      " 5   YearBuilt  2000 non-null   int64 \n",
      " 6   Location   2000 non-null   object\n",
      " 7   Condition  2000 non-null   object\n",
      " 8   Garage     2000 non-null   object\n",
      " 9   Price      2000 non-null   int64 \n",
      "dtypes: int64(7), object(3)\n",
      "memory usage: 156.4+ KB\n"
     ]
    }
   ],
   "source": [
    "df.info()"
   ]
  },
  {
   "cell_type": "markdown",
   "id": "89bf0eba-ef4e-43ab-a668-c2c22f58aa8b",
   "metadata": {},
   "source": [
    "it tells the data type of the columns"
   ]
  },
  {
   "cell_type": "code",
   "execution_count": 124,
   "id": "5468c809-4038-4f31-a1aa-fbc7adb99540",
   "metadata": {},
   "outputs": [
    {
     "data": {
      "image/png": "[encoded data removed]",
      "text/plain": [
       "<Figure size 1000x400 with 1 Axes>"
      ]
     },
     "metadata": {},
     "output_type": "display_data"
    }
   ],
   "source": [
    "plt.figure(figsize=(10,4))\n",
    "plt.hist(df['Price'], bins=20, color='skyblue')\n",
    "plt.title('House Price Distribution')\n",
    "plt.xlabel('Price')\n",
    "plt.ylabel('Number of Houses')\n",
    "plt.show()"
   ]
  },
  {
   "cell_type": "markdown",
   "id": "ed6ddf1b-6ef0-417e-8065-b8c7a748a9d0",
   "metadata": {},
   "source": [
    "# Observation \n",
    "\n",
    "It shows the price range of the houses"
   ]
  },
  {
   "cell_type": "markdown",
   "id": "86251c97-3aa8-433e-80ff-f186c69bd1cf",
   "metadata": {},
   "source": [
    "# Let's handle the categorical values"
   ]
  },
  {
   "cell_type": "code",
   "execution_count": 149,
   "id": "71ed93b7-5537-41a8-a36c-ed4120a59eed",
   "metadata": {},
   "outputs": [
    {
     "data": {
      "text/html": [
       "<div>\n",
       "<style scoped>\n",
       "    .dataframe tbody tr th:only-of-type {\n",
       "        vertical-align: middle;\n",
       "    }\n",
       "\n",
       "    .dataframe tbody tr th {\n",
       "        vertical-align: top;\n",
       "    }\n",
       "\n",
       "    .dataframe thead th {\n",
       "        text-align: right;\n",
       "    }\n",
       "</style>\n",
       "<table border=\"1\" class=\"dataframe\">\n",
       "  <thead>\n",
       "    <tr style=\"text-align: right;\">\n",
       "      <th></th>\n",
       "      <th>Id</th>\n",
       "      <th>Area</th>\n",
       "      <th>Bedrooms</th>\n",
       "      <th>Bathrooms</th>\n",
       "      <th>Floors</th>\n",
       "      <th>YearBuilt</th>\n",
       "      <th>Price</th>\n",
       "      <th>Location_Downtown</th>\n",
       "      <th>Location_Rural</th>\n",
       "      <th>Location_Suburban</th>\n",
       "      <th>Location_Urban</th>\n",
       "      <th>Condition_Excellent</th>\n",
       "      <th>Condition_Fair</th>\n",
       "      <th>Condition_Good</th>\n",
       "      <th>Condition_Poor</th>\n",
       "      <th>Garage_No</th>\n",
       "      <th>Garage_Yes</th>\n",
       "    </tr>\n",
       "  </thead>\n",
       "  <tbody>\n",
       "    <tr>\n",
       "      <th>0</th>\n",
       "      <td>1.0</td>\n",
       "      <td>1360.0</td>\n",
       "      <td>5.0</td>\n",
       "      <td>4.0</td>\n",
       "      <td>3.0</td>\n",
       "      <td>1970.0</td>\n",
       "      <td>149919.0</td>\n",
       "      <td>1.0</td>\n",
       "      <td>0.0</td>\n",
       "      <td>0.0</td>\n",
       "      <td>0.0</td>\n",
       "      <td>1.0</td>\n",
       "      <td>0.0</td>\n",
       "      <td>0.0</td>\n",
       "      <td>0.0</td>\n",
       "      <td>1.0</td>\n",
       "      <td>0.0</td>\n",
       "    </tr>\n",
       "    <tr>\n",
       "      <th>1</th>\n",
       "      <td>2.0</td>\n",
       "      <td>4272.0</td>\n",
       "      <td>5.0</td>\n",
       "      <td>4.0</td>\n",
       "      <td>3.0</td>\n",
       "      <td>1958.0</td>\n",
       "      <td>424998.0</td>\n",
       "      <td>1.0</td>\n",
       "      <td>0.0</td>\n",
       "      <td>0.0</td>\n",
       "      <td>0.0</td>\n",
       "      <td>1.0</td>\n",
       "      <td>0.0</td>\n",
       "      <td>0.0</td>\n",
       "      <td>0.0</td>\n",
       "      <td>1.0</td>\n",
       "      <td>0.0</td>\n",
       "    </tr>\n",
       "    <tr>\n",
       "      <th>2</th>\n",
       "      <td>3.0</td>\n",
       "      <td>3592.0</td>\n",
       "      <td>2.0</td>\n",
       "      <td>2.0</td>\n",
       "      <td>3.0</td>\n",
       "      <td>1938.0</td>\n",
       "      <td>266746.0</td>\n",
       "      <td>1.0</td>\n",
       "      <td>0.0</td>\n",
       "      <td>0.0</td>\n",
       "      <td>0.0</td>\n",
       "      <td>0.0</td>\n",
       "      <td>0.0</td>\n",
       "      <td>1.0</td>\n",
       "      <td>0.0</td>\n",
       "      <td>1.0</td>\n",
       "      <td>0.0</td>\n",
       "    </tr>\n",
       "    <tr>\n",
       "      <th>3</th>\n",
       "      <td>4.0</td>\n",
       "      <td>966.0</td>\n",
       "      <td>4.0</td>\n",
       "      <td>2.0</td>\n",
       "      <td>2.0</td>\n",
       "      <td>1902.0</td>\n",
       "      <td>244020.0</td>\n",
       "      <td>0.0</td>\n",
       "      <td>0.0</td>\n",
       "      <td>1.0</td>\n",
       "      <td>0.0</td>\n",
       "      <td>0.0</td>\n",
       "      <td>1.0</td>\n",
       "      <td>0.0</td>\n",
       "      <td>0.0</td>\n",
       "      <td>0.0</td>\n",
       "      <td>1.0</td>\n",
       "    </tr>\n",
       "    <tr>\n",
       "      <th>4</th>\n",
       "      <td>5.0</td>\n",
       "      <td>4926.0</td>\n",
       "      <td>1.0</td>\n",
       "      <td>4.0</td>\n",
       "      <td>2.0</td>\n",
       "      <td>1975.0</td>\n",
       "      <td>636056.0</td>\n",
       "      <td>1.0</td>\n",
       "      <td>0.0</td>\n",
       "      <td>0.0</td>\n",
       "      <td>0.0</td>\n",
       "      <td>0.0</td>\n",
       "      <td>1.0</td>\n",
       "      <td>0.0</td>\n",
       "      <td>0.0</td>\n",
       "      <td>0.0</td>\n",
       "      <td>1.0</td>\n",
       "    </tr>\n",
       "    <tr>\n",
       "      <th>...</th>\n",
       "      <td>...</td>\n",
       "      <td>...</td>\n",
       "      <td>...</td>\n",
       "      <td>...</td>\n",
       "      <td>...</td>\n",
       "      <td>...</td>\n",
       "      <td>...</td>\n",
       "      <td>...</td>\n",
       "      <td>...</td>\n",
       "      <td>...</td>\n",
       "      <td>...</td>\n",
       "      <td>...</td>\n",
       "      <td>...</td>\n",
       "      <td>...</td>\n",
       "      <td>...</td>\n",
       "      <td>...</td>\n",
       "      <td>...</td>\n",
       "    </tr>\n",
       "    <tr>\n",
       "      <th>1995</th>\n",
       "      <td>1996.0</td>\n",
       "      <td>4994.0</td>\n",
       "      <td>5.0</td>\n",
       "      <td>4.0</td>\n",
       "      <td>3.0</td>\n",
       "      <td>1923.0</td>\n",
       "      <td>295620.0</td>\n",
       "      <td>0.0</td>\n",
       "      <td>0.0</td>\n",
       "      <td>1.0</td>\n",
       "      <td>0.0</td>\n",
       "      <td>0.0</td>\n",
       "      <td>0.0</td>\n",
       "      <td>0.0</td>\n",
       "      <td>1.0</td>\n",
       "      <td>1.0</td>\n",
       "      <td>0.0</td>\n",
       "    </tr>\n",
       "    <tr>\n",
       "      <th>1996</th>\n",
       "      <td>1997.0</td>\n",
       "      <td>3046.0</td>\n",
       "      <td>5.0</td>\n",
       "      <td>2.0</td>\n",
       "      <td>1.0</td>\n",
       "      <td>2019.0</td>\n",
       "      <td>580929.0</td>\n",
       "      <td>0.0</td>\n",
       "      <td>0.0</td>\n",
       "      <td>1.0</td>\n",
       "      <td>0.0</td>\n",
       "      <td>0.0</td>\n",
       "      <td>0.0</td>\n",
       "      <td>0.0</td>\n",
       "      <td>1.0</td>\n",
       "      <td>0.0</td>\n",
       "      <td>1.0</td>\n",
       "    </tr>\n",
       "    <tr>\n",
       "      <th>1997</th>\n",
       "      <td>1998.0</td>\n",
       "      <td>1062.0</td>\n",
       "      <td>5.0</td>\n",
       "      <td>1.0</td>\n",
       "      <td>2.0</td>\n",
       "      <td>1903.0</td>\n",
       "      <td>476925.0</td>\n",
       "      <td>0.0</td>\n",
       "      <td>1.0</td>\n",
       "      <td>0.0</td>\n",
       "      <td>0.0</td>\n",
       "      <td>0.0</td>\n",
       "      <td>0.0</td>\n",
       "      <td>0.0</td>\n",
       "      <td>1.0</td>\n",
       "      <td>1.0</td>\n",
       "      <td>0.0</td>\n",
       "    </tr>\n",
       "    <tr>\n",
       "      <th>1998</th>\n",
       "      <td>1999.0</td>\n",
       "      <td>4062.0</td>\n",
       "      <td>3.0</td>\n",
       "      <td>1.0</td>\n",
       "      <td>2.0</td>\n",
       "      <td>1936.0</td>\n",
       "      <td>161119.0</td>\n",
       "      <td>0.0</td>\n",
       "      <td>0.0</td>\n",
       "      <td>0.0</td>\n",
       "      <td>1.0</td>\n",
       "      <td>1.0</td>\n",
       "      <td>0.0</td>\n",
       "      <td>0.0</td>\n",
       "      <td>0.0</td>\n",
       "      <td>0.0</td>\n",
       "      <td>1.0</td>\n",
       "    </tr>\n",
       "    <tr>\n",
       "      <th>1999</th>\n",
       "      <td>2000.0</td>\n",
       "      <td>2989.0</td>\n",
       "      <td>5.0</td>\n",
       "      <td>1.0</td>\n",
       "      <td>3.0</td>\n",
       "      <td>1903.0</td>\n",
       "      <td>482525.0</td>\n",
       "      <td>0.0</td>\n",
       "      <td>0.0</td>\n",
       "      <td>1.0</td>\n",
       "      <td>0.0</td>\n",
       "      <td>0.0</td>\n",
       "      <td>1.0</td>\n",
       "      <td>0.0</td>\n",
       "      <td>0.0</td>\n",
       "      <td>1.0</td>\n",
       "      <td>0.0</td>\n",
       "    </tr>\n",
       "  </tbody>\n",
       "</table>\n",
       "<p>2000 rows × 17 columns</p>\n",
       "</div>"
      ],
      "text/plain": [
       "          Id    Area  Bedrooms  Bathrooms  Floors  YearBuilt     Price  \\\n",
       "0        1.0  1360.0       5.0        4.0     3.0     1970.0  149919.0   \n",
       "1        2.0  4272.0       5.0        4.0     3.0     1958.0  424998.0   \n",
       "2        3.0  3592.0       2.0        2.0     3.0     1938.0  266746.0   \n",
       "3        4.0   966.0       4.0        2.0     2.0     1902.0  244020.0   \n",
       "4        5.0  4926.0       1.0        4.0     2.0     1975.0  636056.0   \n",
       "...      ...     ...       ...        ...     ...        ...       ...   \n",
       "1995  1996.0  4994.0       5.0        4.0     3.0     1923.0  295620.0   \n",
       "1996  1997.0  3046.0       5.0        2.0     1.0     2019.0  580929.0   \n",
       "1997  1998.0  1062.0       5.0        1.0     2.0     1903.0  476925.0   \n",
       "1998  1999.0  4062.0       3.0        1.0     2.0     1936.0  161119.0   \n",
       "1999  2000.0  2989.0       5.0        1.0     3.0     1903.0  482525.0   \n",
       "\n",
       "      Location_Downtown  Location_Rural  Location_Suburban  Location_Urban  \\\n",
       "0                   1.0             0.0                0.0             0.0   \n",
       "1                   1.0             0.0                0.0             0.0   \n",
       "2                   1.0             0.0                0.0             0.0   \n",
       "3                   0.0             0.0                1.0             0.0   \n",
       "4                   1.0             0.0                0.0             0.0   \n",
       "...                 ...             ...                ...             ...   \n",
       "1995                0.0             0.0                1.0             0.0   \n",
       "1996                0.0             0.0                1.0             0.0   \n",
       "1997                0.0             1.0                0.0             0.0   \n",
       "1998                0.0             0.0                0.0             1.0   \n",
       "1999                0.0             0.0                1.0             0.0   \n",
       "\n",
       "      Condition_Excellent  Condition_Fair  Condition_Good  Condition_Poor  \\\n",
       "0                     1.0             0.0             0.0             0.0   \n",
       "1                     1.0             0.0             0.0             0.0   \n",
       "2                     0.0             0.0             1.0             0.0   \n",
       "3                     0.0             1.0             0.0             0.0   \n",
       "4                     0.0             1.0             0.0             0.0   \n",
       "...                   ...             ...             ...             ...   \n",
       "1995                  0.0             0.0             0.0             1.0   \n",
       "1996                  0.0             0.0             0.0             1.0   \n",
       "1997                  0.0             0.0             0.0             1.0   \n",
       "1998                  1.0             0.0             0.0             0.0   \n",
       "1999                  0.0             1.0             0.0             0.0   \n",
       "\n",
       "      Garage_No  Garage_Yes  \n",
       "0           1.0         0.0  \n",
       "1           1.0         0.0  \n",
       "2           1.0         0.0  \n",
       "3           0.0         1.0  \n",
       "4           0.0         1.0  \n",
       "...         ...         ...  \n",
       "1995        1.0         0.0  \n",
       "1996        0.0         1.0  \n",
       "1997        1.0         0.0  \n",
       "1998        0.0         1.0  \n",
       "1999        1.0         0.0  \n",
       "\n",
       "[2000 rows x 17 columns]"
      ]
     },
     "execution_count": 149,
     "metadata": {},
     "output_type": "execute_result"
    }
   ],
   "source": [
    "df2=pd.get_dummies(df)\n",
    "df2=df2.astype(float)\n",
    "df2"
   ]
  },
  {
   "cell_type": "markdown",
   "id": "601cd8cc-b282-4d83-94af-d493686d70ab",
   "metadata": {},
   "source": [
    "Here we changed the categorial values to numerical with one hot encoding method \n",
    "we use astype(float) to convert the false and true to 0 and 1"
   ]
  },
  {
   "cell_type": "markdown",
   "id": "d9e8b03f-bb84-4923-b0d1-10ce3cb4df13",
   "metadata": {},
   "source": [
    "# Let's see is their any outliers\n",
    "\n",
    "We are using iqr treatment function "
   ]
  },
  {
   "cell_type": "code",
   "execution_count": 156,
   "id": "d4918afd-a070-4d87-b9bc-66c4acfa8a0c",
   "metadata": {},
   "outputs": [
    {
     "data": {
      "text/plain": [
       "<Axes: ylabel='Price'>"
      ]
     },
     "execution_count": 156,
     "metadata": {},
     "output_type": "execute_result"
    },
    {
     "data": {
      "image/png": "[encoded data removed]",
      "text/plain": [
       "<Figure size 640x480 with 1 Axes>"
      ]
     },
     "metadata": {},
     "output_type": "display_data"
    }
   ],
   "source": [
    "sns.boxplot(df2[\"Price\"])"
   ]
  },
  {
   "cell_type": "code",
   "execution_count": 182,
   "id": "9846eb51-db7d-4740-863a-fb2af80ce966",
   "metadata": {},
   "outputs": [
    {
     "data": {
      "image/png": "[encoded data removed]",
      "text/plain": [
       "<Figure size 1600x500 with 2 Axes>"
      ]
     },
     "metadata": {},
     "output_type": "display_data"
    }
   ],
   "source": [
    "plt.figure(figsize=(16,5))\n",
    "plt.subplot(1,2,1)\n",
    "sns.distplot(df2['Price'])\n",
    "\n",
    "plt.subplot(1,2,2)\n",
    "sns.distplot(df2['Bedrooms'])\n",
    "\n",
    "\n",
    "plt.show()\n",
    "\n",
    "import warnings\n",
    "warnings.simplefilter(action='ignore', category=FutureWarning)\n",
    "warnings.simplefilter(action='ignore', category=UserWarning)"
   ]
  },
  {
   "cell_type": "code",
   "execution_count": 184,
   "id": "17fef493",
   "metadata": {},
   "outputs": [
    {
     "data": {
      "image/png": "[encoded data removed]",
      "text/plain": [
       "<Figure size 1600x500 with 2 Axes>"
      ]
     },
     "metadata": {},
     "output_type": "display_data"
    }
   ],
   "source": [
    "plt.figure(figsize=(16,5))\n",
    "plt.subplot(1,2,1)\n",
    "sns.distplot(df2['YearBuilt'])\n",
    "\n",
    "plt.subplot(1,2,2)\n",
    "sns.distplot(df2['Bathrooms'])\n",
    "\n",
    "\n",
    "plt.show()\n",
    "\n",
    "import warnings\n",
    "warnings.simplefilter(action='ignore', category=FutureWarning)\n",
    "warnings.simplefilter(action='ignore', category=UserWarning)"
   ]
  },
  {
   "cell_type": "code",
   "execution_count": 306,
   "id": "f4728e6a-280d-436f-a42f-67f9a8baac8e",
   "metadata": {},
   "outputs": [],
   "source": [
    "percentile25 = df2['Bathrooms'].quantile(0.25)\n",
    "percentile75 = df2['Bathrooms'].quantile(0.75)"
   ]
  },
  {
   "cell_type": "code",
   "execution_count": 322,
   "id": "39bb2557",
   "metadata": {},
   "outputs": [],
   "source": [
    "p25 = df2['Bedrooms'].quantile(0.25)\n",
    "p75 = df2['Bedrooms'].quantile(0.75)"
   ]
  },
  {
   "cell_type": "code",
   "execution_count": 306,
   "id": "4d67e863",
   "metadata": {},
   "outputs": [],
   "source": [
    "percentile25 = df2['Bathrooms'].quantile(0.25)\n",
    "percentile75 = df2['Bathrooms'].quantile(0.75)"
   ]
  },
  {
   "cell_type": "code",
   "execution_count": 308,
   "id": "c002659b-d88d-4c79-8d9b-ca65cd578853",
   "metadata": {},
   "outputs": [],
   "source": [
    "iqr = percentile75 - percentile25"
   ]
  },
  {
   "cell_type": "code",
   "execution_count": 324,
   "id": "070f667c",
   "metadata": {},
   "outputs": [],
   "source": [
    "iqr1 = p75 - p25"
   ]
  },
  {
   "cell_type": "code",
   "execution_count": 310,
   "id": "e4bbb908-36e1-4b6f-a622-5b7af32a8c21",
   "metadata": {},
   "outputs": [],
   "source": [
    "upper_limit = percentile75 + 1.5 * iqr\n",
    "lower_limit = percentile25 - 1.5 * iqr"
   ]
  },
  {
   "cell_type": "code",
   "execution_count": 326,
   "id": "aa91bcf9",
   "metadata": {},
   "outputs": [],
   "source": [
    "upper = p75 + 1.5 * iqr1\n",
    "lower = p25 - 1.5 * iqr1"
   ]
  },
  {
   "cell_type": "code",
   "execution_count": 312,
   "id": "ce923535-2426-461c-b438-f3e0611ede27",
   "metadata": {},
   "outputs": [
    {
     "name": "stdout",
     "output_type": "stream",
     "text": [
      "Upper limit 7.0\n",
      "Lower limit -1.0\n"
     ]
    }
   ],
   "source": [
    "print(\"Upper limit\",upper_limit)\n",
    "print(\"Lower limit\",lower_limit)"
   ]
  },
  {
   "cell_type": "code",
   "execution_count": 328,
   "id": "ddc48d50",
   "metadata": {},
   "outputs": [
    {
     "name": "stdout",
     "output_type": "stream",
     "text": [
      "Upper limit 7.0\n",
      "Lower limit -1.0\n"
     ]
    }
   ],
   "source": [
    "print(\"Upper limit\",upper)\n",
    "print(\"Lower limit\",lower)"
   ]
  },
  {
   "cell_type": "code",
   "execution_count": 320,
   "id": "fe1428fb-48bd-426f-b374-181540fe7066",
   "metadata": {},
   "outputs": [
    {
     "data": {
      "text/html": [
       "<div>\n",
       "<style scoped>\n",
       "    .dataframe tbody tr th:only-of-type {\n",
       "        vertical-align: middle;\n",
       "    }\n",
       "\n",
       "    .dataframe tbody tr th {\n",
       "        vertical-align: top;\n",
       "    }\n",
       "\n",
       "    .dataframe thead th {\n",
       "        text-align: right;\n",
       "    }\n",
       "</style>\n",
       "<table border=\"1\" class=\"dataframe\">\n",
       "  <thead>\n",
       "    <tr style=\"text-align: right;\">\n",
       "      <th></th>\n",
       "      <th>Id</th>\n",
       "      <th>Area</th>\n",
       "      <th>Bedrooms</th>\n",
       "      <th>Bathrooms</th>\n",
       "      <th>Floors</th>\n",
       "      <th>YearBuilt</th>\n",
       "      <th>Location</th>\n",
       "      <th>Condition</th>\n",
       "      <th>Garage</th>\n",
       "      <th>Price</th>\n",
       "    </tr>\n",
       "  </thead>\n",
       "  <tbody>\n",
       "  </tbody>\n",
       "</table>\n",
       "</div>"
      ],
      "text/plain": [
       "Empty DataFrame\n",
       "Columns: [Id, Area, Bedrooms, Bathrooms, Floors, YearBuilt, Location, Condition, Garage, Price]\n",
       "Index: []"
      ]
     },
     "execution_count": 320,
     "metadata": {},
     "output_type": "execute_result"
    }
   ],
   "source": [
    "df[df['Bathrooms'] > upper_limit]"
   ]
  },
  {
   "cell_type": "code",
   "execution_count": 332,
   "id": "b767661c",
   "metadata": {},
   "outputs": [
    {
     "data": {
      "text/html": [
       "<div>\n",
       "<style scoped>\n",
       "    .dataframe tbody tr th:only-of-type {\n",
       "        vertical-align: middle;\n",
       "    }\n",
       "\n",
       "    .dataframe tbody tr th {\n",
       "        vertical-align: top;\n",
       "    }\n",
       "\n",
       "    .dataframe thead th {\n",
       "        text-align: right;\n",
       "    }\n",
       "</style>\n",
       "<table border=\"1\" class=\"dataframe\">\n",
       "  <thead>\n",
       "    <tr style=\"text-align: right;\">\n",
       "      <th></th>\n",
       "      <th>Id</th>\n",
       "      <th>Area</th>\n",
       "      <th>Bedrooms</th>\n",
       "      <th>Bathrooms</th>\n",
       "      <th>Floors</th>\n",
       "      <th>YearBuilt</th>\n",
       "      <th>Price</th>\n",
       "      <th>Location_Downtown</th>\n",
       "      <th>Location_Rural</th>\n",
       "      <th>Location_Suburban</th>\n",
       "      <th>Location_Urban</th>\n",
       "      <th>Condition_Excellent</th>\n",
       "      <th>Condition_Fair</th>\n",
       "      <th>Condition_Good</th>\n",
       "      <th>Condition_Poor</th>\n",
       "      <th>Garage_No</th>\n",
       "      <th>Garage_Yes</th>\n",
       "    </tr>\n",
       "  </thead>\n",
       "  <tbody>\n",
       "  </tbody>\n",
       "</table>\n",
       "</div>"
      ],
      "text/plain": [
       "Empty DataFrame\n",
       "Columns: [Id, Area, Bedrooms, Bathrooms, Floors, YearBuilt, Price, Location_Downtown, Location_Rural, Location_Suburban, Location_Urban, Condition_Excellent, Condition_Fair, Condition_Good, Condition_Poor, Garage_No, Garage_Yes]\n",
       "Index: []"
      ]
     },
     "execution_count": 332,
     "metadata": {},
     "output_type": "execute_result"
    }
   ],
   "source": [
    "df2[df2['Bedrooms'] > upper_limit]"
   ]
  },
  {
   "cell_type": "code",
   "execution_count": 198,
   "id": "a6d3459a-2b4a-4c9a-80dc-e4aaae070c1d",
   "metadata": {},
   "outputs": [
    {
     "name": "stdout",
     "output_type": "stream",
     "text": [
      "-0.06435063707629374\n",
      "-0.021753101738324912\n",
      "-0.001577134580340159\n",
      "-0.06654566397653618\n"
     ]
    }
   ],
   "source": [
    "print(df2['Price'].skew())\n",
    "print(df2['Bedrooms'].skew())\n",
    "print(df2['YearBuilt'].skew())\n",
    "print(df2['Bathrooms'].skew())"
   ]
  },
  {
   "cell_type": "markdown",
   "id": "f3e67b1e-4611-4bdf-b1a4-4643a5ea8b98",
   "metadata": {},
   "source": [
    "# Here isn't that much skweness seen a little bit in the features so we will continue work with this"
   ]
  },
  {
   "cell_type": "markdown",
   "id": "bc26d40b-e24d-4650-9cf1-2e0f28ce38a4",
   "metadata": {},
   "source": [
    "# Let's train "
   ]
  },
  {
   "cell_type": "code",
   "execution_count": 200,
   "id": "be307da9-c64e-4ae4-b3e4-2a4e4e36913b",
   "metadata": {},
   "outputs": [],
   "source": [
    "x = df2.drop(['Id','Price'], axis=1)  \n",
    "y = df2['Price']"
   ]
  },
  {
   "cell_type": "markdown",
   "id": "3793b0e5-d40d-4743-8d81-cb2ae298da03",
   "metadata": {},
   "source": [
    "We don't need id in our features as it doesn't play any role and price also cause it's the value we want to pridict so it is on the taget value"
   ]
  },
  {
   "cell_type": "code",
   "execution_count": 203,
   "id": "4078d553-9bc0-4d6b-bddf-2e1f7d43f30f",
   "metadata": {},
   "outputs": [
    {
     "data": {
      "text/plain": [
       "(2000, 15)"
      ]
     },
     "execution_count": 203,
     "metadata": {},
     "output_type": "execute_result"
    }
   ],
   "source": [
    "x.shape"
   ]
  },
  {
   "cell_type": "markdown",
   "id": "29ab4b7a-076e-48ab-9b95-725beacad5d3",
   "metadata": {},
   "source": [
    "It shows the no of columns and rows we are use in feature to work with "
   ]
  },
  {
   "cell_type": "code",
   "execution_count": 210,
   "id": "fbe70529-fc48-4056-b39a-b42f1c1028d5",
   "metadata": {},
   "outputs": [
    {
     "data": {
      "text/html": [
       "<div>\n",
       "<style scoped>\n",
       "    .dataframe tbody tr th:only-of-type {\n",
       "        vertical-align: middle;\n",
       "    }\n",
       "\n",
       "    .dataframe tbody tr th {\n",
       "        vertical-align: top;\n",
       "    }\n",
       "\n",
       "    .dataframe thead th {\n",
       "        text-align: right;\n",
       "    }\n",
       "</style>\n",
       "<table border=\"1\" class=\"dataframe\">\n",
       "  <thead>\n",
       "    <tr style=\"text-align: right;\">\n",
       "      <th></th>\n",
       "      <th>Area</th>\n",
       "      <th>Bedrooms</th>\n",
       "      <th>Bathrooms</th>\n",
       "      <th>Floors</th>\n",
       "      <th>YearBuilt</th>\n",
       "      <th>Location_Downtown</th>\n",
       "      <th>Location_Rural</th>\n",
       "      <th>Location_Suburban</th>\n",
       "      <th>Location_Urban</th>\n",
       "      <th>Condition_Excellent</th>\n",
       "      <th>Condition_Fair</th>\n",
       "      <th>Condition_Good</th>\n",
       "      <th>Condition_Poor</th>\n",
       "      <th>Garage_No</th>\n",
       "      <th>Garage_Yes</th>\n",
       "    </tr>\n",
       "  </thead>\n",
       "  <tbody>\n",
       "    <tr>\n",
       "      <th>0</th>\n",
       "      <td>1360.0</td>\n",
       "      <td>5.0</td>\n",
       "      <td>4.0</td>\n",
       "      <td>3.0</td>\n",
       "      <td>1970.0</td>\n",
       "      <td>1.0</td>\n",
       "      <td>0.0</td>\n",
       "      <td>0.0</td>\n",
       "      <td>0.0</td>\n",
       "      <td>1.0</td>\n",
       "      <td>0.0</td>\n",
       "      <td>0.0</td>\n",
       "      <td>0.0</td>\n",
       "      <td>1.0</td>\n",
       "      <td>0.0</td>\n",
       "    </tr>\n",
       "    <tr>\n",
       "      <th>1</th>\n",
       "      <td>4272.0</td>\n",
       "      <td>5.0</td>\n",
       "      <td>4.0</td>\n",
       "      <td>3.0</td>\n",
       "      <td>1958.0</td>\n",
       "      <td>1.0</td>\n",
       "      <td>0.0</td>\n",
       "      <td>0.0</td>\n",
       "      <td>0.0</td>\n",
       "      <td>1.0</td>\n",
       "      <td>0.0</td>\n",
       "      <td>0.0</td>\n",
       "      <td>0.0</td>\n",
       "      <td>1.0</td>\n",
       "      <td>0.0</td>\n",
       "    </tr>\n",
       "    <tr>\n",
       "      <th>2</th>\n",
       "      <td>3592.0</td>\n",
       "      <td>2.0</td>\n",
       "      <td>2.0</td>\n",
       "      <td>3.0</td>\n",
       "      <td>1938.0</td>\n",
       "      <td>1.0</td>\n",
       "      <td>0.0</td>\n",
       "      <td>0.0</td>\n",
       "      <td>0.0</td>\n",
       "      <td>0.0</td>\n",
       "      <td>0.0</td>\n",
       "      <td>1.0</td>\n",
       "      <td>0.0</td>\n",
       "      <td>1.0</td>\n",
       "      <td>0.0</td>\n",
       "    </tr>\n",
       "    <tr>\n",
       "      <th>3</th>\n",
       "      <td>966.0</td>\n",
       "      <td>4.0</td>\n",
       "      <td>2.0</td>\n",
       "      <td>2.0</td>\n",
       "      <td>1902.0</td>\n",
       "      <td>0.0</td>\n",
       "      <td>0.0</td>\n",
       "      <td>1.0</td>\n",
       "      <td>0.0</td>\n",
       "      <td>0.0</td>\n",
       "      <td>1.0</td>\n",
       "      <td>0.0</td>\n",
       "      <td>0.0</td>\n",
       "      <td>0.0</td>\n",
       "      <td>1.0</td>\n",
       "    </tr>\n",
       "  </tbody>\n",
       "</table>\n",
       "</div>"
      ],
      "text/plain": [
       "     Area  Bedrooms  Bathrooms  Floors  YearBuilt  Location_Downtown  \\\n",
       "0  1360.0       5.0        4.0     3.0     1970.0                1.0   \n",
       "1  4272.0       5.0        4.0     3.0     1958.0                1.0   \n",
       "2  3592.0       2.0        2.0     3.0     1938.0                1.0   \n",
       "3   966.0       4.0        2.0     2.0     1902.0                0.0   \n",
       "\n",
       "   Location_Rural  Location_Suburban  Location_Urban  Condition_Excellent  \\\n",
       "0             0.0                0.0             0.0                  1.0   \n",
       "1             0.0                0.0             0.0                  1.0   \n",
       "2             0.0                0.0             0.0                  0.0   \n",
       "3             0.0                1.0             0.0                  0.0   \n",
       "\n",
       "   Condition_Fair  Condition_Good  Condition_Poor  Garage_No  Garage_Yes  \n",
       "0             0.0             0.0             0.0        1.0         0.0  \n",
       "1             0.0             0.0             0.0        1.0         0.0  \n",
       "2             0.0             1.0             0.0        1.0         0.0  \n",
       "3             1.0             0.0             0.0        0.0         1.0  "
      ]
     },
     "execution_count": 210,
     "metadata": {},
     "output_type": "execute_result"
    }
   ],
   "source": [
    "x.head(4)"
   ]
  },
  {
   "cell_type": "code",
   "execution_count": 208,
   "id": "06492a85-c0d6-45c0-8fc4-552ccc7b4a2c",
   "metadata": {},
   "outputs": [
    {
     "data": {
      "text/plain": [
       "(2000,)"
      ]
     },
     "execution_count": 208,
     "metadata": {},
     "output_type": "execute_result"
    }
   ],
   "source": [
    "y.shape"
   ]
  },
  {
   "cell_type": "markdown",
   "id": "67a6f2fb-21ac-44a4-9077-02b835b51b7b",
   "metadata": {},
   "source": [
    "# We are using 70 percent to train and 30 percent to test \n",
    "our target value is price"
   ]
  },
  {
   "cell_type": "code",
   "execution_count": 230,
   "id": "30d00ae7-7a75-4e85-a8d5-777f00ad459e",
   "metadata": {},
   "outputs": [],
   "source": [
    "from sklearn.model_selection import train_test_split\n",
    "X_train, X_test, y_train, y_test = train_test_split(x, y, test_size=0.3, random_state=25)"
   ]
  },
  {
   "cell_type": "code",
   "execution_count": 232,
   "id": "0b84601f-43df-4ce3-aec7-ac27d4e1eddc",
   "metadata": {},
   "outputs": [
    {
     "name": "stdout",
     "output_type": "stream",
     "text": [
      "(1400, 15)\n",
      "(600, 15)\n"
     ]
    }
   ],
   "source": [
    "print(X_train.shape)\n",
    "print(X_test.shape)"
   ]
  },
  {
   "cell_type": "code",
   "execution_count": 234,
   "id": "f08faf3b-3f49-4fbd-89cd-af3568387d87",
   "metadata": {},
   "outputs": [],
   "source": [
    "from sklearn.linear_model import LinearRegression"
   ]
  },
  {
   "cell_type": "code",
   "execution_count": 236,
   "id": "eceac1a6-40b4-4d1f-a229-37172dcd8139",
   "metadata": {},
   "outputs": [],
   "source": [
    "reg = LinearRegression()"
   ]
  },
  {
   "cell_type": "code",
   "execution_count": 238,
   "id": "3a7034f9-2ee7-49b2-bb19-a7e0c425e835",
   "metadata": {},
   "outputs": [
    {
     "data": {
      "text/html": [
       "<style>#sk-container-id-4 {\n",
       "  /* Definition of color scheme common for light and dark mode */\n",
       "  --sklearn-color-text: black;\n",
       "  --sklearn-color-line: gray;\n",
       "  /* Definition of color scheme for unfitted estimators */\n",
       "  --sklearn-color-unfitted-level-0: #fff5e6;\n",
       "  --sklearn-color-unfitted-level-1: #f6e4d2;\n",
       "  --sklearn-color-unfitted-level-2: #ffe0b3;\n",
       "  --sklearn-color-unfitted-level-3: chocolate;\n",
       "  /* Definition of color scheme for fitted estimators */\n",
       "  --sklearn-color-fitted-level-0: #f0f8ff;\n",
       "  --sklearn-color-fitted-level-1: #d4ebff;\n",
       "  --sklearn-color-fitted-level-2: #b3dbfd;\n",
       "  --sklearn-color-fitted-level-3: cornflowerblue;\n",
       "\n",
       "  /* Specific color for light theme */\n",
       "  --sklearn-color-text-on-default-background: var(--sg-text-color, var(--theme-code-foreground, var(--jp-content-font-color1, black)));\n",
       "  --sklearn-color-background: var(--sg-background-color, var(--theme-background, var(--jp-layout-color0, white)));\n",
       "  --sklearn-color-border-box: var(--sg-text-color, var(--theme-code-foreground, var(--jp-content-font-color1, black)));\n",
       "  --sklearn-color-icon: #696969;\n",
       "\n",
       "  @media (prefers-color-scheme: dark) {\n",
       "    /* Redefinition of color scheme for dark theme */\n",
       "    --sklearn-color-text-on-default-background: var(--sg-text-color, var(--theme-code-foreground, var(--jp-content-font-color1, white)));\n",
       "    --sklearn-color-background: var(--sg-background-color, var(--theme-background, var(--jp-layout-color0, #111)));\n",
       "    --sklearn-color-border-box: var(--sg-text-color, var(--theme-code-foreground, var(--jp-content-font-color1, white)));\n",
       "    --sklearn-color-icon: #878787;\n",
       "  }\n",
       "}\n",
       "\n",
       "#sk-container-id-4 {\n",
       "  color: var(--sklearn-color-text);\n",
       "}\n",
       "\n",
       "#sk-container-id-4 pre {\n",
       "  padding: 0;\n",
       "}\n",
       "\n",
       "#sk-container-id-4 input.sk-hidden--visually {\n",
       "  border: 0;\n",
       "  clip: rect(1px 1px 1px 1px);\n",
       "  clip: rect(1px, 1px, 1px, 1px);\n",
       "  height: 1px;\n",
       "  margin: -1px;\n",
       "  overflow: hidden;\n",
       "  padding: 0;\n",
       "  position: absolute;\n",
       "  width: 1px;\n",
       "}\n",
       "\n",
       "#sk-container-id-4 div.sk-dashed-wrapped {\n",
       "  border: 1px dashed var(--sklearn-color-line);\n",
       "  margin: 0 0.4em 0.5em 0.4em;\n",
       "  box-sizing: border-box;\n",
       "  padding-bottom: 0.4em;\n",
       "  background-color: var(--sklearn-color-background);\n",
       "}\n",
       "\n",
       "#sk-container-id-4 div.sk-container {\n",
       "  /* jupyter's `normalize.less` sets `[hidden] { display: none; }`\n",
       "     but bootstrap.min.css set `[hidden] { display: none !important; }`\n",
       "     so we also need the `!important` here to be able to override the\n",
       "     default hidden behavior on the sphinx rendered scikit-learn.org.\n",
       "     See: https://github.com/scikit-learn/scikit-learn/issues/21755 */\n",
       "  display: inline-block !important;\n",
       "  position: relative;\n",
       "}\n",
       "\n",
       "#sk-container-id-4 div.sk-text-repr-fallback {\n",
       "  display: none;\n",
       "}\n",
       "\n",
       "div.sk-parallel-item,\n",
       "div.sk-serial,\n",
       "div.sk-item {\n",
       "  /* draw centered vertical line to link estimators */\n",
       "  background-image: linear-gradient(var(--sklearn-color-text-on-default-background), var(--sklearn-color-text-on-default-background));\n",
       "  background-size: 2px 100%;\n",
       "  background-repeat: no-repeat;\n",
       "  background-position: center center;\n",
       "}\n",
       "\n",
       "/* Parallel-specific style estimator block */\n",
       "\n",
       "#sk-container-id-4 div.sk-parallel-item::after {\n",
       "  content: \"\";\n",
       "  width: 100%;\n",
       "  border-bottom: 2px solid var(--sklearn-color-text-on-default-background);\n",
       "  flex-grow: 1;\n",
       "}\n",
       "\n",
       "#sk-container-id-4 div.sk-parallel {\n",
       "  display: flex;\n",
       "  align-items: stretch;\n",
       "  justify-content: center;\n",
       "  background-color: var(--sklearn-color-background);\n",
       "  position: relative;\n",
       "}\n",
       "\n",
       "#sk-container-id-4 div.sk-parallel-item {\n",
       "  display: flex;\n",
       "  flex-direction: column;\n",
       "}\n",
       "\n",
       "#sk-container-id-4 div.sk-parallel-item:first-child::after {\n",
       "  align-self: flex-end;\n",
       "  width: 50%;\n",
       "}\n",
       "\n",
       "#sk-container-id-4 div.sk-parallel-item:last-child::after {\n",
       "  align-self: flex-start;\n",
       "  width: 50%;\n",
       "}\n",
       "\n",
       "#sk-container-id-4 div.sk-parallel-item:only-child::after {\n",
       "  width: 0;\n",
       "}\n",
       "\n",
       "/* Serial-specific style estimator block */\n",
       "\n",
       "#sk-container-id-4 div.sk-serial {\n",
       "  display: flex;\n",
       "  flex-direction: column;\n",
       "  align-items: center;\n",
       "  background-color: var(--sklearn-color-background);\n",
       "  padding-right: 1em;\n",
       "  padding-left: 1em;\n",
       "}\n",
       "\n",
       "\n",
       "/* Toggleable style: style used for estimator/Pipeline/ColumnTransformer box that is\n",
       "clickable and can be expanded/collapsed.\n",
       "- Pipeline and ColumnTransformer use this feature and define the default style\n",
       "- Estimators will overwrite some part of the style using the `sk-estimator` class\n",
       "*/\n",
       "\n",
       "/* Pipeline and ColumnTransformer style (default) */\n",
       "\n",
       "#sk-container-id-4 div.sk-toggleable {\n",
       "  /* Default theme specific background. It is overwritten whether we have a\n",
       "  specific estimator or a Pipeline/ColumnTransformer */\n",
       "  background-color: var(--sklearn-color-background);\n",
       "}\n",
       "\n",
       "/* Toggleable label */\n",
       "#sk-container-id-4 label.sk-toggleable__label {\n",
       "  cursor: pointer;\n",
       "  display: block;\n",
       "  width: 100%;\n",
       "  margin-bottom: 0;\n",
       "  padding: 0.5em;\n",
       "  box-sizing: border-box;\n",
       "  text-align: center;\n",
       "}\n",
       "\n",
       "#sk-container-id-4 label.sk-toggleable__label-arrow:before {\n",
       "  /* Arrow on the left of the label */\n",
       "  content: \"▸\";\n",
       "  float: left;\n",
       "  margin-right: 0.25em;\n",
       "  color: var(--sklearn-color-icon);\n",
       "}\n",
       "\n",
       "#sk-container-id-4 label.sk-toggleable__label-arrow:hover:before {\n",
       "  color: var(--sklearn-color-text);\n",
       "}\n",
       "\n",
       "/* Toggleable content - dropdown */\n",
       "\n",
       "#sk-container-id-4 div.sk-toggleable__content {\n",
       "  max-height: 0;\n",
       "  max-width: 0;\n",
       "  overflow: hidden;\n",
       "  text-align: left;\n",
       "  /* unfitted */\n",
       "  background-color: var(--sklearn-color-unfitted-level-0);\n",
       "}\n",
       "\n",
       "#sk-container-id-4 div.sk-toggleable__content.fitted {\n",
       "  /* fitted */\n",
       "  background-color: var(--sklearn-color-fitted-level-0);\n",
       "}\n",
       "\n",
       "#sk-container-id-4 div.sk-toggleable__content pre {\n",
       "  margin: 0.2em;\n",
       "  border-radius: 0.25em;\n",
       "  color: var(--sklearn-color-text);\n",
       "  /* unfitted */\n",
       "  background-color: var(--sklearn-color-unfitted-level-0);\n",
       "}\n",
       "\n",
       "#sk-container-id-4 div.sk-toggleable__content.fitted pre {\n",
       "  /* unfitted */\n",
       "  background-color: var(--sklearn-color-fitted-level-0);\n",
       "}\n",
       "\n",
       "#sk-container-id-4 input.sk-toggleable__control:checked~div.sk-toggleable__content {\n",
       "  /* Expand drop-down */\n",
       "  max-height: 200px;\n",
       "  max-width: 100%;\n",
       "  overflow: auto;\n",
       "}\n",
       "\n",
       "#sk-container-id-4 input.sk-toggleable__control:checked~label.sk-toggleable__label-arrow:before {\n",
       "  content: \"▾\";\n",
       "}\n",
       "\n",
       "/* Pipeline/ColumnTransformer-specific style */\n",
       "\n",
       "#sk-container-id-4 div.sk-label input.sk-toggleable__control:checked~label.sk-toggleable__label {\n",
       "  color: var(--sklearn-color-text);\n",
       "  background-color: var(--sklearn-color-unfitted-level-2);\n",
       "}\n",
       "\n",
       "#sk-container-id-4 div.sk-label.fitted input.sk-toggleable__control:checked~label.sk-toggleable__label {\n",
       "  background-color: var(--sklearn-color-fitted-level-2);\n",
       "}\n",
       "\n",
       "/* Estimator-specific style */\n",
       "\n",
       "/* Colorize estimator box */\n",
       "#sk-container-id-4 div.sk-estimator input.sk-toggleable__control:checked~label.sk-toggleable__label {\n",
       "  /* unfitted */\n",
       "  background-color: var(--sklearn-color-unfitted-level-2);\n",
       "}\n",
       "\n",
       "#sk-container-id-4 div.sk-estimator.fitted input.sk-toggleable__control:checked~label.sk-toggleable__label {\n",
       "  /* fitted */\n",
       "  background-color: var(--sklearn-color-fitted-level-2);\n",
       "}\n",
       "\n",
       "#sk-container-id-4 div.sk-label label.sk-toggleable__label,\n",
       "#sk-container-id-4 div.sk-label label {\n",
       "  /* The background is the default theme color */\n",
       "  color: var(--sklearn-color-text-on-default-background);\n",
       "}\n",
       "\n",
       "/* On hover, darken the color of the background */\n",
       "#sk-container-id-4 div.sk-label:hover label.sk-toggleable__label {\n",
       "  color: var(--sklearn-color-text);\n",
       "  background-color: var(--sklearn-color-unfitted-level-2);\n",
       "}\n",
       "\n",
       "/* Label box, darken color on hover, fitted */\n",
       "#sk-container-id-4 div.sk-label.fitted:hover label.sk-toggleable__label.fitted {\n",
       "  color: var(--sklearn-color-text);\n",
       "  background-color: var(--sklearn-color-fitted-level-2);\n",
       "}\n",
       "\n",
       "/* Estimator label */\n",
       "\n",
       "#sk-container-id-4 div.sk-label label {\n",
       "  font-family: monospace;\n",
       "  font-weight: bold;\n",
       "  display: inline-block;\n",
       "  line-height: 1.2em;\n",
       "}\n",
       "\n",
       "#sk-container-id-4 div.sk-label-container {\n",
       "  text-align: center;\n",
       "}\n",
       "\n",
       "/* Estimator-specific */\n",
       "#sk-container-id-4 div.sk-estimator {\n",
       "  font-family: monospace;\n",
       "  border: 1px dotted var(--sklearn-color-border-box);\n",
       "  border-radius: 0.25em;\n",
       "  box-sizing: border-box;\n",
       "  margin-bottom: 0.5em;\n",
       "  /* unfitted */\n",
       "  background-color: var(--sklearn-color-unfitted-level-0);\n",
       "}\n",
       "\n",
       "#sk-container-id-4 div.sk-estimator.fitted {\n",
       "  /* fitted */\n",
       "  background-color: var(--sklearn-color-fitted-level-0);\n",
       "}\n",
       "\n",
       "/* on hover */\n",
       "#sk-container-id-4 div.sk-estimator:hover {\n",
       "  /* unfitted */\n",
       "  background-color: var(--sklearn-color-unfitted-level-2);\n",
       "}\n",
       "\n",
       "#sk-container-id-4 div.sk-estimator.fitted:hover {\n",
       "  /* fitted */\n",
       "  background-color: var(--sklearn-color-fitted-level-2);\n",
       "}\n",
       "\n",
       "/* Specification for estimator info (e.g. \"i\" and \"?\") */\n",
       "\n",
       "/* Common style for \"i\" and \"?\" */\n",
       "\n",
       ".sk-estimator-doc-link,\n",
       "a:link.sk-estimator-doc-link,\n",
       "a:visited.sk-estimator-doc-link {\n",
       "  float: right;\n",
       "  font-size: smaller;\n",
       "  line-height: 1em;\n",
       "  font-family: monospace;\n",
       "  background-color: var(--sklearn-color-background);\n",
       "  border-radius: 1em;\n",
       "  height: 1em;\n",
       "  width: 1em;\n",
       "  text-decoration: none !important;\n",
       "  margin-left: 1ex;\n",
       "  /* unfitted */\n",
       "  border: var(--sklearn-color-unfitted-level-1) 1pt solid;\n",
       "  color: var(--sklearn-color-unfitted-level-1);\n",
       "}\n",
       "\n",
       ".sk-estimator-doc-link.fitted,\n",
       "a:link.sk-estimator-doc-link.fitted,\n",
       "a:visited.sk-estimator-doc-link.fitted {\n",
       "  /* fitted */\n",
       "  border: var(--sklearn-color-fitted-level-1) 1pt solid;\n",
       "  color: var(--sklearn-color-fitted-level-1);\n",
       "}\n",
       "\n",
       "/* On hover */\n",
       "div.sk-estimator:hover .sk-estimator-doc-link:hover,\n",
       ".sk-estimator-doc-link:hover,\n",
       "div.sk-label-container:hover .sk-estimator-doc-link:hover,\n",
       ".sk-estimator-doc-link:hover {\n",
       "  /* unfitted */\n",
       "  background-color: var(--sklearn-color-unfitted-level-3);\n",
       "  color: var(--sklearn-color-background);\n",
       "  text-decoration: none;\n",
       "}\n",
       "\n",
       "div.sk-estimator.fitted:hover .sk-estimator-doc-link.fitted:hover,\n",
       ".sk-estimator-doc-link.fitted:hover,\n",
       "div.sk-label-container:hover .sk-estimator-doc-link.fitted:hover,\n",
       ".sk-estimator-doc-link.fitted:hover {\n",
       "  /* fitted */\n",
       "  background-color: var(--sklearn-color-fitted-level-3);\n",
       "  color: var(--sklearn-color-background);\n",
       "  text-decoration: none;\n",
       "}\n",
       "\n",
       "/* Span, style for the box shown on hovering the info icon */\n",
       ".sk-estimator-doc-link span {\n",
       "  display: none;\n",
       "  z-index: 9999;\n",
       "  position: relative;\n",
       "  font-weight: normal;\n",
       "  right: .2ex;\n",
       "  padding: .5ex;\n",
       "  margin: .5ex;\n",
       "  width: min-content;\n",
       "  min-width: 20ex;\n",
       "  max-width: 50ex;\n",
       "  color: var(--sklearn-color-text);\n",
       "  box-shadow: 2pt 2pt 4pt #999;\n",
       "  /* unfitted */\n",
       "  background: var(--sklearn-color-unfitted-level-0);\n",
       "  border: .5pt solid var(--sklearn-color-unfitted-level-3);\n",
       "}\n",
       "\n",
       ".sk-estimator-doc-link.fitted span {\n",
       "  /* fitted */\n",
       "  background: var(--sklearn-color-fitted-level-0);\n",
       "  border: var(--sklearn-color-fitted-level-3);\n",
       "}\n",
       "\n",
       ".sk-estimator-doc-link:hover span {\n",
       "  display: block;\n",
       "}\n",
       "\n",
       "/* \"?\"-specific style due to the `<a>` HTML tag */\n",
       "\n",
       "#sk-container-id-4 a.estimator_doc_link {\n",
       "  float: right;\n",
       "  font-size: 1rem;\n",
       "  line-height: 1em;\n",
       "  font-family: monospace;\n",
       "  background-color: var(--sklearn-color-background);\n",
       "  border-radius: 1rem;\n",
       "  height: 1rem;\n",
       "  width: 1rem;\n",
       "  text-decoration: none;\n",
       "  /* unfitted */\n",
       "  color: var(--sklearn-color-unfitted-level-1);\n",
       "  border: var(--sklearn-color-unfitted-level-1) 1pt solid;\n",
       "}\n",
       "\n",
       "#sk-container-id-4 a.estimator_doc_link.fitted {\n",
       "  /* fitted */\n",
       "  border: var(--sklearn-color-fitted-level-1) 1pt solid;\n",
       "  color: var(--sklearn-color-fitted-level-1);\n",
       "}\n",
       "\n",
       "/* On hover */\n",
       "#sk-container-id-4 a.estimator_doc_link:hover {\n",
       "  /* unfitted */\n",
       "  background-color: var(--sklearn-color-unfitted-level-3);\n",
       "  color: var(--sklearn-color-background);\n",
       "  text-decoration: none;\n",
       "}\n",
       "\n",
       "#sk-container-id-4 a.estimator_doc_link.fitted:hover {\n",
       "  /* fitted */\n",
       "  background-color: var(--sklearn-color-fitted-level-3);\n",
       "}\n",
       "</style><div id=\"sk-container-id-4\" class=\"sk-top-container\"><div class=\"sk-text-repr-fallback\"><pre>LinearRegression()</pre><b>In a Jupyter environment, please rerun this cell to show the HTML representation or trust the notebook. <br />On GitHub, the HTML representation is unable to render, please try loading this page with nbviewer.org.</b></div><div class=\"sk-container\" hidden><div class=\"sk-item\"><div class=\"sk-estimator fitted sk-toggleable\"><input class=\"sk-toggleable__control sk-hidden--visually\" id=\"sk-estimator-id-4\" type=\"checkbox\" checked><label for=\"sk-estimator-id-4\" class=\"sk-toggleable__label fitted sk-toggleable__label-arrow fitted\">&nbsp;&nbsp;LinearRegression<a class=\"sk-estimator-doc-link fitted\" rel=\"noreferrer\" target=\"_blank\" href=\"https://scikit-learn.org/1.4/modules/generated/sklearn.linear_model.LinearRegression.html\">?<span>Documentation for LinearRegression</span></a><span class=\"sk-estimator-doc-link fitted\">i<span>Fitted</span></span></label><div class=\"sk-toggleable__content fitted\"><pre>LinearRegression()</pre></div> </div></div></div></div>"
      ],
      "text/plain": [
       "LinearRegression()"
      ]
     },
     "execution_count": 238,
     "metadata": {},
     "output_type": "execute_result"
    }
   ],
   "source": [
    "reg.fit(X_train,y_train)"
   ]
  },
  {
   "cell_type": "code",
   "execution_count": 240,
   "id": "99e2434b-f66d-4845-89b2-f250aa918f4a",
   "metadata": {},
   "outputs": [],
   "source": [
    "y_pred = reg.predict(X_test)"
   ]
  },
  {
   "cell_type": "code",
   "execution_count": 242,
   "id": "88e81f3e-1236-4324-936f-ed011d472055",
   "metadata": {},
   "outputs": [],
   "source": [
    "from sklearn.metrics import r2_score"
   ]
  },
  {
   "cell_type": "code",
   "execution_count": 244,
   "id": "a09604ac-c411-4809-be90-b3a3e951fb40",
   "metadata": {},
   "outputs": [
    {
     "data": {
      "text/plain": [
       "-0.016171460588894293"
      ]
     },
     "execution_count": 244,
     "metadata": {},
     "output_type": "execute_result"
    }
   ],
   "source": [
    "r2_score(y_test,y_pred)"
   ]
  },
  {
   "cell_type": "code",
   "execution_count": 246,
   "id": "26d8a8c4-3f17-4512-8fc4-46e5d6f0a0e3",
   "metadata": {},
   "outputs": [
    {
     "data": {
      "text/plain": [
       "array([ 8.61703219e-02,  1.72944354e+02, -1.25985102e+03,  2.68591021e+04,\n",
       "        5.05954935e+01, -8.31715730e+03,  1.19370337e+04,  1.55150755e+04,\n",
       "       -1.91349520e+04, -2.05064566e+04,  3.00700811e+04, -5.73620658e+03,\n",
       "       -3.82741793e+03,  3.73562759e+02, -3.73562759e+02])"
      ]
     },
     "execution_count": 246,
     "metadata": {},
     "output_type": "execute_result"
    }
   ],
   "source": [
    "reg.coef_"
   ]
  },
  {
   "cell_type": "code",
   "execution_count": 248,
   "id": "f1bad539-f28a-478d-8385-10ae88d45701",
   "metadata": {},
   "outputs": [
    {
     "data": {
      "text/plain": [
       "380979.05729882803"
      ]
     },
     "execution_count": 248,
     "metadata": {},
     "output_type": "execute_result"
    }
   ],
   "source": [
    "reg.intercept_"
   ]
  },
  {
   "cell_type": "code",
   "execution_count": null,
   "id": "041d631e-53fb-4fb1-a7c4-8b71552bf9cf",
   "metadata": {},
   "outputs": [],
   "source": [
    "import warnings\n",
    "warnings.filterwarnings('ignore')"
   ]
  },
  {
   "cell_type": "code",
   "execution_count": 250,
   "id": "701038cc-01ef-4ae7-ac8c-55d6d41dc983",
   "metadata": {},
   "outputs": [
    {
     "data": {
      "text/plain": [
       "array([478247.14553222])"
      ]
     },
     "execution_count": 250,
     "metadata": {},
     "output_type": "execute_result"
    }
   ],
   "source": [
    "reg.predict(X_test.iloc[0].values.reshape(1,15))"
   ]
  },
  {
   "cell_type": "code",
   "execution_count": 265,
   "id": "25a7cc79-52ea-4d75-b836-063e08112711",
   "metadata": {},
   "outputs": [],
   "source": [
    "from sklearn.metrics import mean_absolute_error,mean_squared_error,r2_score"
   ]
  },
  {
   "cell_type": "code",
   "execution_count": 267,
   "id": "6b84c364-765f-40f3-8816-59e595777708",
   "metadata": {},
   "outputs": [],
   "source": [
    "y_pred = reg.predict(X_test)"
   ]
  },
  {
   "cell_type": "code",
   "execution_count": 269,
   "id": "4639c92e-bc3b-4b05-ace6-c069c741bf0b",
   "metadata": {},
   "outputs": [
    {
     "data": {
      "text/plain": [
       "array([288078., 667997., 569897., 156968., 934747., 160675., 928548.,\n",
       "       759441., 879868., 674142., 663311., 670103., 721844., 970995.,\n",
       "       828639., 118835., 321261., 169095., 391324., 577433., 695214.,\n",
       "       849235., 118607., 956644., 161186., 286887., 941307., 439522.,\n",
       "       586498., 776262., 313369.,  59387., 580696., 591567., 107788.,\n",
       "       609836., 182871., 213394., 697735., 868718.,  60236., 445822.,\n",
       "       554869., 396300., 535179., 698365.,  76014.,  56611., 427972.,\n",
       "       535320., 138757., 865014., 771782., 703197., 344721., 347625.,\n",
       "       891967., 549344., 411273., 901612., 833849., 676692., 192712.,\n",
       "       487513., 411995., 956630., 814742., 760731., 882044., 519284.,\n",
       "       426394., 271775., 272129., 800385., 838898., 840243., 818026.,\n",
       "       788165., 413133., 174698., 203325., 391376., 328606., 658725.,\n",
       "       553528., 384192., 184962., 381145., 845415.,  58539., 832680.,\n",
       "       514674., 915885., 303301., 558928., 904531., 836458., 757508.,\n",
       "       322201., 930520., 179576., 252945., 734153., 998084., 528193.,\n",
       "       620900., 690083., 386940., 298577., 592247., 494049., 840078.,\n",
       "       400434.,  51845., 875613.,  70557., 758029., 780806., 545187.,\n",
       "       778927., 836157., 647689., 674652., 437554., 330831.,  71797.,\n",
       "       200619., 502201., 921044., 605623., 183997., 139142., 836351.,\n",
       "       128591., 305315., 405143., 973469., 505519., 531503., 981539.,\n",
       "       246945., 536476., 337251., 482525., 125911., 631330., 863819.,\n",
       "       670656., 328747., 786091., 798609., 364096., 514764., 111600.,\n",
       "       985510., 685167., 406668., 887985., 922811.,  89369., 829685.,\n",
       "       230697., 919061., 652288., 399422., 721162.,  97922., 676627.,\n",
       "       999656., 923993., 328252., 962133., 323139., 675207., 601872.,\n",
       "       784543., 670218., 198430., 155494., 772670., 142529., 247977.,\n",
       "       972532., 536275., 874470., 628528., 409571., 682822., 515139.,\n",
       "        93021., 622922., 329087., 654879., 127701., 736860., 468401.,\n",
       "       746248., 100272., 685181., 698852., 907735., 473759., 679957.,\n",
       "       796648., 151096., 691501., 911287., 503885., 170283., 422146.,\n",
       "       133805., 956587., 231350., 760595., 576683., 358094., 265963.,\n",
       "       842401., 997226., 813277., 926143., 930507., 366235., 555920.,\n",
       "       905010., 804189., 287439., 354592., 730047., 128229.,  52024.,\n",
       "       526728., 204473.,  96629., 822411., 433800., 198388., 128743.,\n",
       "       807071., 709089., 643358., 187039., 456339., 111086., 827203.,\n",
       "       931779., 476573., 235846., 258072., 558907., 891081.,  53052.,\n",
       "       709789., 817248., 401992., 864980., 427928., 919403., 637596.,\n",
       "       493888., 634087., 772300., 846075., 934729., 866473., 939459.,\n",
       "       464170., 905742., 113528., 890271., 563611., 760958., 642127.,\n",
       "       688751., 842846., 175801., 424998., 802744.,  75301., 576961.,\n",
       "       700060., 755339., 813292., 796988., 505235., 477894., 890249.,\n",
       "        98786., 857605., 174714., 683654., 235217., 784184., 881776.,\n",
       "       717554., 317544., 543496., 450717., 101798., 711944., 667300.,\n",
       "       812072., 726708., 809129., 756465., 519965., 540092., 226978.,\n",
       "       748213.,  72007., 352069., 463146., 513506., 404820., 971600.,\n",
       "        66220., 706442., 983332., 475716., 279602., 788497., 305494.,\n",
       "       972879., 684378., 976920., 834429.,  60712., 493226., 964394.,\n",
       "        53212., 540674., 535119., 967461., 979441., 169342., 415130.,\n",
       "       628706., 188783., 925433., 690360., 745169., 569826., 154997.,\n",
       "       208116., 668470.,  59765., 608692., 852874., 316441., 309291.,\n",
       "        51082., 373599., 657050., 389092., 445462., 849093., 840555.,\n",
       "       713662., 291472., 875294., 154959., 474022., 533419., 979700.,\n",
       "       886048., 336640., 560237., 201168., 732561., 389749., 655266.,\n",
       "       989203., 487744., 527508., 706341., 800639., 468161., 584398.,\n",
       "       286028., 237232., 361251., 694691., 818103.,  50005., 627564.,\n",
       "       275097., 273059., 830768., 309383., 443781., 811254., 682592.,\n",
       "       254739.,  60002., 104583., 183703., 459909., 858143., 959222.,\n",
       "       297439., 612781., 201744.,  66488., 747621., 621952., 695115.,\n",
       "       729706., 823202., 910352.,  78004., 890931., 464248., 265933.,\n",
       "       529274.,  61755., 218393.,  56457., 857032., 811654., 464562.,\n",
       "       756168., 932464., 543614., 986184., 145259.,  95291., 620569.,\n",
       "       500479., 856560., 884395., 916603., 289317., 360625., 902609.,\n",
       "       496049., 743649., 395590., 980728., 983671., 835313., 887329.,\n",
       "       894445., 889411., 283076., 998128., 520328., 142643., 594893.,\n",
       "       849947., 824769., 879492., 762787., 194608., 133323., 512753.,\n",
       "       279303., 157154., 355292., 834141., 253426., 768398., 442613.,\n",
       "       153976., 765612., 957278., 592166., 467876., 233148., 415169.,\n",
       "       330558., 119806., 532517., 716933.,  81817., 518239., 171246.,\n",
       "       286591., 703002., 290310., 798378., 942215., 578883.,  92103.,\n",
       "       654146.,  80924., 926611., 178824., 632093., 583754., 230557.,\n",
       "       750457., 486056., 520897., 526015., 859816., 384341., 785101.,\n",
       "       298850., 657493., 592528., 427625., 637270., 700009., 147289.,\n",
       "       831627., 942724., 786200., 924726., 371961., 518968., 416099.,\n",
       "       774689., 520336., 499303., 810943., 938640., 389112., 720951.,\n",
       "       346753., 853032., 166196., 728797., 697861., 545283., 917481.,\n",
       "       866615., 560241., 987126.,  90725., 980291., 530875., 383857.,\n",
       "       457435., 929753., 655262., 543301., 173554., 751486., 824756.,\n",
       "       650709., 493853., 283127., 405113., 110611., 838695., 421467.,\n",
       "       619601., 724075., 284729., 421831., 458995., 967184., 144266.,\n",
       "       302051., 221955., 236807., 476855., 782119.,  83064., 783082.,\n",
       "       964105., 691067., 229729., 935188., 214334., 733835., 334931.,\n",
       "       827794., 398301., 910587., 974069., 307571., 666108., 543406.,\n",
       "       883247., 961995., 423587., 202842., 294437.,  63672., 975168.,\n",
       "       975554., 923055., 650577., 914945., 957107., 971484., 874832.,\n",
       "       430129., 405970., 179909., 246437., 981543., 193092., 419170.,\n",
       "       186772., 958573.,  77313., 517121., 413309.])"
      ]
     },
     "execution_count": 269,
     "metadata": {},
     "output_type": "execute_result"
    }
   ],
   "source": [
    "y_test.values"
   ]
  },
  {
   "cell_type": "code",
   "execution_count": 290,
   "id": "c7eb70fd-6fa9-454e-a868-e1afb5dedf51",
   "metadata": {},
   "outputs": [
    {
     "name": "stdout",
     "output_type": "stream",
     "text": [
      "MAE: 245891.13\n"
     ]
    }
   ],
   "source": [
    "mae= mean_absolute_error(y_test,y_pred)\n",
    "print(f'MAE: {mae:.2f}')\n"
   ]
  },
  {
   "cell_type": "code",
   "execution_count": 294,
   "id": "5ea331ec-803a-4e38-b3a0-e1504f7cd860",
   "metadata": {},
   "outputs": [
    {
     "name": "stdout",
     "output_type": "stream",
     "text": [
      "MSE: 80203969933.62\n"
     ]
    }
   ],
   "source": [
    "mse= mean_squared_error(y_test,y_pred)\n",
    "print(f'MSE: {mse:.2f}')"
   ]
  },
  {
   "cell_type": "code",
   "execution_count": 275,
   "id": "d491fe87-9783-4de2-a23d-7483c9002488",
   "metadata": {},
   "outputs": [
    {
     "name": "stdout",
     "output_type": "stream",
     "text": [
      "RMSE 283203.0542448678\n"
     ]
    }
   ],
   "source": [
    "print(\"RMSE\",np.sqrt(mean_squared_error(y_test,y_pred)))"
   ]
  },
  {
   "cell_type": "code",
   "execution_count": 298,
   "id": "b06a3aa5-53a7-40a2-91c5-3763cf5744c0",
   "metadata": {},
   "outputs": [
    {
     "name": "stdout",
     "output_type": "stream",
     "text": [
      "R2 -0.016171460588894293\n"
     ]
    }
   ],
   "source": [
    "print(\"R2\",r2_score(y_test,y_pred))"
   ]
  },
  {
   "cell_type": "code",
   "execution_count": 281,
   "id": "46898ea9-b3a6-4ac5-8d37-e29080e01407",
   "metadata": {},
   "outputs": [
    {
     "data": {
      "image/png": "[encoded data removed]",
      "text/plain": [
       "<Figure size 1000x500 with 1 Axes>"
      ]
     },
     "metadata": {},
     "output_type": "display_data"
    }
   ],
   "source": [
    "plt.figure(figsize=(10,5))\n",
    "plt.scatter(y_test, y_pred, alpha=0.5)\n",
    "plt.plot([y_test.min(), y_test.max()], [y_test.min(), y_test.max()], 'r--')\n",
    "plt.xlabel('Actual Prices')\n",
    "plt.ylabel('Predicted Prices')\n",
    "plt.title('How Good Are Our Predictions?')\n",
    "plt.show()"
   ]
  },
  {
   "cell_type": "markdown",
   "id": "8968a40d-5662-4fe6-a746-c7a7f735b324",
   "metadata": {},
   "source": [
    "It shows that our model is just 0.2 or 0.3 percent good"
   ]
  },
  {
   "cell_type": "code",
   "execution_count": null,
   "id": "0059f5a0-6184-4a47-b6a8-483917e673b2",
   "metadata": {},
   "outputs": [],
   "source": []
  }
 ],
 "metadata": {
  "kernelspec": {
   "display_name": "Python 3 (ipykernel)",
   "language": "python",
   "name": "python3"
  },
  "language_info": {
   "codemirror_mode": {
    "name": "ipython",
    "version": 3
   },
   "file_extension": ".py",
   "mimetype": "text/x-python",
   "name": "python",
   "nbconvert_exporter": "python",
   "pygments_lexer": "ipython3",
   "version": "3.12.4"
  }
 },
 "nbformat": 4,
 "nbformat_minor": 5
}
